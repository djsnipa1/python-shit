{
  "cells": [
    {
      "cell_type": "markdown",
      "source": [
        "# COVID-19 NOTEBOK\n",
        "- - -\n"
      ],
      "metadata": {
        "nteract": {
          "transient": {
            "deleting": false
          }
        }
      }
    },
    {
      "cell_type": "markdown",
      "source": [
        "### `import` libraries"
      ],
      "metadata": {
        "nteract": {
          "transient": {
            "deleting": false
          }
        }
      }
    },
    {
      "cell_type": "code",
      "source": [
        "import json\n",
        "import pandas as pd\n",
        "import requests\n",
        "from datetime import datetime\n",
        "from datetime import timedelta\n"
      ],
      "outputs": [],
      "execution_count": null,
      "metadata": {
        "collapsed": false,
        "jupyter": {
          "source_hidden": false,
          "outputs_hidden": false
        },
        "nteract": {
          "transient": {
            "deleting": false
          }
        }
      }
    },
    {
      "cell_type": "code",
      "source": [
        "# send_headers = {'Accept': 'application/json'}\n",
        "\n",
        "response = requests.get('https://coronavirus-tracker-api.herokuapp.com/all')\n",
        "response.encoding = 'utf-8'  # Optional: requests infers this internally\n",
        "data = response.json()\n"
      ],
      "outputs": [],
      "execution_count": null,
      "metadata": {
        "collapsed": false,
        "jupyter": {
          "source_hidden": false,
          "outputs_hidden": false
        },
        "nteract": {
          "transient": {
            "deleting": false
          }
        }
      }
    },
    {
      "cell_type": "markdown",
      "source": [
        "### save `covid19.json` "
      ],
      "metadata": {
        "nteract": {
          "transient": {
            "deleting": false
          }
        }
      }
    },
    {
      "cell_type": "code",
      "source": [
        "def save_json():\n",
        "    with open('covid19.json', 'w') as f:\n",
        "        json.dump(data, f)\n",
        "\n",
        "save_json()\n"
      ],
      "outputs": [],
      "execution_count": null,
      "metadata": {
        "collapsed": false,
        "jupyter": {
          "source_hidden": false,
          "outputs_hidden": false
        },
        "nteract": {
          "transient": {
            "deleting": false
          }
        }
      }
    },
    {
      "cell_type": "markdown",
      "source": [
        "#### latest variables"
      ],
      "metadata": {
        "nteract": {
          "transient": {
            "deleting": false
          }
        }
      }
    },
    {
      "cell_type": "code",
      "source": [
        "confirmed_latest = data['latest']['confirmed']\n",
        "deaths_latest = data['latest']['deaths']\n",
        "recovered_latest = data['latest']['recovered']\n",
        "deaths_updated_json = data['deaths']['last_updated']\n",
        "\n",
        "def confirmed_func():\n",
        "    print(confirmed_latest)\n",
        "\n",
        "confirmed_func()"
      ],
      "outputs": [],
      "execution_count": null,
      "metadata": {
        "collapsed": false,
        "jupyter": {
          "source_hidden": false,
          "outputs_hidden": false
        },
        "nteract": {
          "transient": {
            "deleting": false
          }
        }
      }
    },
    {
      "cell_type": "markdown",
      "source": [
        "## print death locations\n"
      ],
      "metadata": {
        "nteract": {
          "transient": {
            "deleting": false
          }
        }
      }
    },
    {
      "cell_type": "code",
      "source": [
        "def print_latest():\n",
        "    \"\"\"\n",
        "    prints latest stats\n",
        "    \"\"\"\n",
        "    print(\"Confirmed: \" + str(confirmed_latest))\n",
        "    print(\"Deaths: \" + str(deaths_latest))\n",
        "    print(\"Last Updated: \" + deaths_updated_json)\n",
        "    print('Recovered: ' + str(recovered_latest))\n",
        "\n",
        "print_latest()"
      ],
      "outputs": [],
      "execution_count": null,
      "metadata": {
        "collapsed": false,
        "jupyter": {
          "source_hidden": false,
          "outputs_hidden": false
        },
        "nteract": {
          "transient": {
            "deleting": false
          }
        }
      }
    },
    {
      "cell_type": "markdown",
      "source": [
        "## Confirmed\n",
        "confirmed locations DataFrame\n"
      ],
      "metadata": {
        "nteract": {
          "transient": {
            "deleting": false
          }
        }
      }
    },
    {
      "cell_type": "code",
      "source": [
        "pd_confirmed_locations = pd.DataFrame(data['confirmed']['locations'],\n",
        "                                      columns=[\"country\", \"latest\",\n",
        "                                               \"province\"])"
      ],
      "outputs": [],
      "execution_count": null,
      "metadata": {
        "collapsed": false,
        "jupyter": {
          "source_hidden": false,
          "outputs_hidden": false
        },
        "nteract": {
          "transient": {
            "deleting": false
          }
        }
      }
    },
    {
      "cell_type": "code",
      "source": [
        "print(pd_confirmed_locations.head())\n",
        "print(\"-=\" * 40)\n",
        "print(pd_confirmed_locations.sort_values(ascending=False,\n",
        "                                         by=['latest']).head())\n",
        "print(\"-=\" * 40)\n",
        "print('Number of colums in Dataframe : ', len(pd_confirmed_locations.columns))\n",
        "print(pd_confirmed_locations.columns)\n",
        "print('Number of rows in Dataframe : ', len(pd_confirmed_locations.index))\n"
      ],
      "outputs": [],
      "execution_count": null,
      "metadata": {
        "collapsed": false,
        "jupyter": {
          "source_hidden": false,
          "outputs_hidden": false
        },
        "nteract": {
          "transient": {
            "deleting": false
          }
        }
      }
    },
    {
      "cell_type": "markdown",
      "source": [
        "### deaths\n",
        "\n",
        "death locations"
      ],
      "metadata": {
        "nteract": {
          "transient": {
            "deleting": false
          }
        }
      }
    },
    {
      "cell_type": "code",
      "source": [
        "pd_death_locations = pd.DataFrame(data['deaths']['locations'],\n",
        "                                  columns=[\"country\", \"latest\", \"province\"]\n",
        "                                  ).sort_values(ascending=False, by='latest')\n",
        "print(pd_death_locations.head())"
      ],
      "outputs": [],
      "execution_count": null,
      "metadata": {
        "collapsed": false,
        "jupyter": {
          "source_hidden": false,
          "outputs_hidden": false
        },
        "nteract": {
          "transient": {
            "deleting": false
          }
        }
      }
    },
    {
      "cell_type": "code",
      "source": [
        "test_pd = pd.DataFrame(data['deaths']['locations'],\n",
        "                       columns=[\"country\", \"history\"])"
      ],
      "outputs": [],
      "execution_count": null,
      "metadata": {
        "collapsed": false,
        "jupyter": {
          "source_hidden": false,
          "outputs_hidden": false
        },
        "nteract": {
          "transient": {
            "deleting": false
          }
        }
      }
    },
    {
      "cell_type": "code",
      "source": [
        "history = pd.DataFrame(data['deaths']['locations'],\n",
        "                       columns=[\"history\"]).apply(pd.Series)"
      ],
      "outputs": [],
      "execution_count": null,
      "metadata": {
        "collapsed": false,
        "jupyter": {
          "source_hidden": false,
          "outputs_hidden": false
        },
        "nteract": {
          "transient": {
            "deleting": false
          }
        }
      }
    },
    {
      "cell_type": "code",
      "source": [
        "now = datetime.now()\n",
        "d = now.strftime(\"%#m/%d/%y\")\n",
        "yesterday = (datetime.now() - timedelta(days=1)).strftime(\"%#m/%d/%y\")\n",
        "print(d)\n",
        "print(\"yesterday = \" + yesterday)"
      ],
      "outputs": [],
      "execution_count": null,
      "metadata": {
        "collapsed": false,
        "jupyter": {
          "source_hidden": false,
          "outputs_hidden": false
        },
        "nteract": {
          "transient": {
            "deleting": false
          }
        }
      }
    }
  ],
  "metadata": {
    "kernelspec": {
      "argv": [
        "C:\\Users\\Chad\\.virtualenvs\\python-shit-Hatrr_zd\\Scripts\\python.exe",
        "-m",
        "ipykernel_launcher",
        "-f",
        "{connection_file}"
      ],
      "display_name": "hydrogen-python-shit",
      "language": "python",
      "name": "hydrogen-python-shit"
    }
  },
  "nbformat": 4,
  "nbformat_minor": 0
}