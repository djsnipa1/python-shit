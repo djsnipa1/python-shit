{
  "cells": [
    {
      "cell_type": "code",
      "source": [
        "# coding=utf-8\n",
        "import sys\n",
        "import requests"
      ],
      "outputs": [],
      "execution_count": null,
      "metadata": {
        "collapsed": false,
        "jupyter": {
          "source_hidden": false,
          "outputs_hidden": false
        },
        "nteract": {
          "transient": {
            "deleting": false
          }
        }
      }
    },
    {
      "cell_type": "markdown",
      "source": [
        "## Get result of model_list"
      ],
      "metadata": {
        "nteract": {
          "transient": {
            "deleting": false
          }
        }
      }
    },
    {
      "cell_type": "code",
      "source": [
        "api_list = 'http://colormind.io/list/'\n",
        "api = 'http://colormind.io/api/'"
      ],
      "outputs": [],
      "execution_count": null,
      "metadata": {
        "collapsed": false,
        "jupyter": {
          "source_hidden": false,
          "outputs_hidden": false
        },
        "nteract": {
          "transient": {
            "deleting": false
          }
        }
      }
    },
    {
      "cell_type": "code",
      "source": [
        "model_list = []"
      ],
      "outputs": [],
      "execution_count": null,
      "metadata": {
        "collapsed": false,
        "jupyter": {
          "source_hidden": false,
          "outputs_hidden": false
        },
        "nteract": {
          "transient": {
            "deleting": false
          }
        }
      }
    },
    {
      "cell_type": "code",
      "source": [
        "def colormind_requests(url):\n",
        "    r = requests.get(url)\n",
        "    result = r.json()\n",
        "    model_list_result = result['result']\n",
        "    for item in model_list_result:\n",
        "        model_list.append(item)\n",
        "    print(model_list)"
      ],
      "outputs": [],
      "execution_count": null,
      "metadata": {
        "collapsed": false,
        "jupyter": {
          "source_hidden": false,
          "outputs_hidden": false
        },
        "nteract": {
          "transient": {
            "deleting": false
          }
        }
      }
    },
    {
      "cell_type": "code",
      "source": [
        "colormind_requests(api_list)"
      ],
      "outputs": [],
      "execution_count": null,
      "metadata": {
        "collapsed": false,
        "jupyter": {
          "source_hidden": false,
          "outputs_hidden": false
        },
        "nteract": {
          "transient": {
            "deleting": false
          }
        }
      }
    },
    {
      "cell_type": "code",
      "source": [
        "def choose_model():\n",
        "    for i, val in enumerate(model_list):\n",
        "        print(str(i + 1) + \" \" + val)\n",
        "    print(\"\\nChoose\")\n",
        "    while True:\n",
        "        try:\n",
        "            # Note: Python 2.x users should use raw_input, the equivalent of 3.x's input\n",
        "            x = int(input(\"\\nPlease enter a number 1 through 6: \\n\"))\n",
        "        except ValueError:\n",
        "            print(\"\\nI said A NUMBER damn it! \\n\")\n",
        "            # better try again... Return to the start of the loop\n",
        "            continue\n",
        "        else:\n",
        "            # age was successfully parsed!\n",
        "            # we're ready to exit the loop.\n",
        "            break\n",
        "    if x > 6:\n",
        "        print(\"\\nThat number is higher than 6 fucker! \\n\")\n",
        "        choose_model()\n",
        "    else:\n",
        "        choose = model_list[int(x) - 1]\n",
        "        print(\"\\nFinally! You choose: \" + choose)\n",
        "\n",
        "\n",
        "choose_model()\n",
        "    \n",
        "data = '{ \"model\" : \"ui\" }'\n",
        "\t\t\t\t\t\n",
        "# {\"result\":[[214,78,69],[247,242,163],[201,216,147],[57,141,112],[62,80,64]]}\n",
        "\t\t\t\t\n",
        "\n",
        "def colormind_api():\n",
        "    print(api)\n",
        "    print(data)\n",
        "    r = requests.post(url = api, data = data)\n",
        "    results = r.json()\n",
        "    print(results)\n",
        "#     result = r.json()\n",
        "    list_result = results['result']\n",
        "    print(list_result[0])\n",
        "    line = str(list_result[0])\n",
        "    line.replace(\"[\", \"rgb(\").replace(\"]\", \")\")\n",
        "    # list comprehension below\n",
        "    rgbs_replace = [str(item).replace(\"[\", \"rgb(\").replace(\"]\", \")\") for item in list_result]\n",
        "    rgbs = rgbs_replace[:]\n",
        "    rgbs\n",
        "    var1, var2, var3, var4, var5 = rgbs[0], rgbs[1], rgbs[2], rgbs[3], rgbs[4]\n",
        "    varx = rgbs[1]\n",
        "    print(rgbs)\n",
        "    \n",
        "    # for item in list_result:\n",
        "    #     list.append(item)\n",
        "    # print(model_list)\n",
        "\n",
        "colormind_api()\n",
        "rgbify = var1\n",
        "\n",
        "def chad(rgbify):\n",
        "    valuex = rgbify.lstrip('rgb')\n",
        "    valuex = valuex.replace(\"(\", \"\").replace(\")\", \"\")\n",
        "    print(valuex)\n",
        "    red, green, blue = valuex.lstrip(' ').split(',')\n",
        "    while True:\n",
        "        return reg, green, blue\n",
        "chad(var2) \n",
        "\n",
        "\n",
        "# ## Color Convert rgb <==> hex\n",
        "\n",
        "def hex_to_rgb(value):\n",
        "    \"\"\"Return (red, green, blue) for the color given as #rrggbb.\"\"\"\n",
        "    value = value.lstrip('#')\n",
        "    lv = len(value)\n",
        "    return tuple(int(value[i:i + lv // 3], 16) for i in range(0, lv, lv // 3))\n",
        "\n",
        "def rgb_to_hex(red, green, blue):\n",
        "    \"\"\"Return color as #rrggbb for the given color values.\"\"\"\n",
        "    return '#%02x%02x%02x' % (red, green, blue)\n",
        "\n",
        "# hex_to_rgb(\"#ffffff\")           #==> (255, 255, 255)\n",
        "# hex_to_rgb(\"#ffffffffffff\")     #==> (65535, 65535, 65535)\n",
        "# rgb_to_hex(255, 255, 255)       #==> '#ffffff'\n",
        "# rgb_to_hex(65535, 65535, 65535) #==> '#ffffffffffff'\n",
        "\n",
        "\n",
        "colormind_api()"
      ],
      "outputs": [],
      "execution_count": null,
      "metadata": {
        "collapsed": false,
        "jupyter": {
          "source_hidden": false,
          "outputs_hidden": false
        },
        "nteract": {
          "transient": {
            "deleting": false
          }
        }
      }
    },
    {
      "cell_type": "code",
      "source": [
        "\n",
        "\n",
        "'''\n",
        "\n",
        "[1]: http://satyr.io/120x4:3/571845?text=%23571845\n",
        "[2]: http://satyr.io/120x4:3/900C3E?text=%23900C3E\n",
        "[3]: http://satyr.io/120x4:3/C70039?text=%23C70039\n",
        "[4]: http://satyr.io/120x4:3/FF5733?text=%23FF5733\n",
        "[5]: http://satyr.io/120x4:3/FFC300?text=%23FFC300\n",
        "\n",
        "\n",
        "\n",
        "[6]: http://satyr.io/150x5:20/571845?text=%23571845\n",
        "[7]: http://satyr.io/150x5:20/900C3E?text=%23900C3E\n",
        "[8]: http://satyr.io/150x5:20/C70039?text=%23C70039\n",
        "[9]: http://satyr.io/150x5:20/FF5733?text=%23FF5733\n",
        "[10]: http://satyr.io/150x5:20/FFC300?text=%23FFC300\n",
        "\n",
        "'''"
      ],
      "outputs": [],
      "execution_count": null,
      "metadata": {
        "collapsed": false,
        "jupyter": {
          "source_hidden": false,
          "outputs_hidden": false
        },
        "nteract": {
          "transient": {
            "deleting": false
          }
        }
      }
    },
    {
      "cell_type": "code",
      "source": [
        "choose_model()"
      ],
      "outputs": [],
      "execution_count": null,
      "metadata": {
        "collapsed": false,
        "jupyter": {
          "source_hidden": false,
          "outputs_hidden": false
        },
        "nteract": {
          "transient": {
            "deleting": false
          }
        }
      }
    }
  ],
  "metadata": {
    "kernelspec": {
      "argv": [
        "python",
        "-m",
        "ipykernel_launcher",
        "-f",
        "{connection_file}"
      ],
      "display_name": "Python 3",
      "language": "python",
      "name": "python3"
    }
  },
  "nbformat": 4,
  "nbformat_minor": 0
}