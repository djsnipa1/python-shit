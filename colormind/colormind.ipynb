{
  "cells": [
    {
      "cell_type": "code",
      "source": [
        "# coding=utf-8\n",
        "import sys\n",
        "import requests"
      ],
      "outputs": [],
      "execution_count": 1,
      "metadata": {
        "execution": {
          "iopub.status.busy": "2020-03-24T14:41:40.899Z",
          "iopub.execute_input": "2020-03-24T14:41:40.908Z",
          "iopub.status.idle": "2020-03-24T14:41:41.411Z",
          "shell.execute_reply": "2020-03-24T14:41:41.430Z"
        }
      }
    },
    {
      "cell_type": "markdown",
      "source": [
        "## Get result of model_list"
      ],
      "metadata": {}
    },
    {
      "cell_type": "code",
      "source": [
        "api_list = 'http://colormind.io/list/'\n",
        "api = 'http://colormind.io/api/'"
      ],
      "outputs": [],
      "execution_count": 2,
      "metadata": {
        "execution": {
          "iopub.status.busy": "2020-03-24T14:41:56.550Z",
          "iopub.execute_input": "2020-03-24T14:41:56.565Z",
          "iopub.status.idle": "2020-03-24T14:41:56.583Z",
          "shell.execute_reply": "2020-03-24T14:41:56.598Z"
        }
      }
    },
    {
      "cell_type": "code",
      "source": [
        "model_list = []"
      ],
      "outputs": [],
      "execution_count": 3,
      "metadata": {
        "execution": {
          "iopub.status.busy": "2020-03-24T14:42:00.219Z",
          "iopub.execute_input": "2020-03-24T14:42:00.230Z",
          "iopub.status.idle": "2020-03-24T14:42:00.242Z",
          "shell.execute_reply": "2020-03-24T14:42:00.248Z"
        }
      }
    },
    {
      "cell_type": "code",
      "source": [
        "def colormind_requests(url):\n",
        "    r = requests.get(url)\n",
        "    result = r.json()\n",
        "    model_list_result = result['result']\n",
        "    for item in model_list_result:\n",
        "        model_list.append(item)\n",
        "    print(model_list)"
      ],
      "outputs": [],
      "execution_count": 4,
      "metadata": {
        "execution": {
          "iopub.status.busy": "2020-03-24T14:42:03.727Z",
          "iopub.execute_input": "2020-03-24T14:42:03.734Z",
          "iopub.status.idle": "2020-03-24T14:42:03.746Z",
          "shell.execute_reply": "2020-03-24T14:42:03.754Z"
        }
      }
    },
    {
      "cell_type": "code",
      "source": [
        "colormind_requests(api_list)"
      ],
      "outputs": [
        {
          "output_type": "stream",
          "name": "stdout",
          "text": [
            "['ui', 'default', 'ocean_photography', 'amelie_film', 'communist', 'game_of_thrones']\n"
          ]
        }
      ],
      "execution_count": 5,
      "metadata": {
        "execution": {
          "iopub.status.busy": "2020-03-24T14:42:10.243Z",
          "iopub.execute_input": "2020-03-24T14:42:10.251Z",
          "iopub.status.idle": "2020-03-24T14:42:10.583Z",
          "shell.execute_reply": "2020-03-24T14:42:10.606Z"
        }
      }
    },
    {
      "cell_type": "code",
      "source": [
        "def choose_model():\n",
        "    for i, val in enumerate(model_list):\n",
        "        print(str(i + 1) + \" \" + val)\n",
        "    print(\"\\nChoose\")\n",
        "    while True:\n",
        "        try:\n",
        "            # Note: Python 2.x users should use raw_input, the equivalent of 3.x's input\n",
        "            x = int(input(\"\\nPlease enter a number 1 through 6: \\n\"))\n",
        "        except ValueError:\n",
        "            print(\"\\nI said A NUMBER damn it! \\n\")\n",
        "            # better try again... Return to the start of the loop\n",
        "            continue\n",
        "        else:\n",
        "            # age was successfully parsed!\n",
        "            # we're ready to exit the loop.\n",
        "            break\n",
        "    if x > 6:\n",
        "        print(\"\\nThat number is higher than 6 fucker! \\n\")\n",
        "        choose_model()\n",
        "    else:\n",
        "        choose = model_list[int(x) - 1]\n",
        "        print(\"\\nFinally! You choose: \" + choose)\n",
        "\n",
        "    # while True:\n",
        "    #     try:\n",
        "    #         return int(input(\"Please enter a number from 1 - 6: \"))\n",
        "    #     except ValueError:\n",
        "    #         print(\"Invalid input. Please try again!\")\n",
        "    #\n",
        "    # n = get_user_input()\n",
        "    # print(\"Thanks! You entered: {0:d}\".format(n))\n",
        "    #\n",
        "    # x = int(input())\n",
        "    # try:\n",
        "    #     print(type(x))\n",
        "    #     choose = model_list[int(x) - 1]\n",
        "    #     print(choose)\n",
        "    #\n",
        "    # except ValueError:\n",
        "    #     print(\"Oops!\", sys.exc_info()[0], \"occured.\")\n",
        "    #     print(\"Please insert a number between 1-6\")\n",
        "    #     choose_model()\n",
        "    #     # if type(x) == int:\n",
        "        #     pass\n",
        "\n",
        "    # else:\n",
        "    #     print(\"Please enter a number from 1 to 6\")\n",
        "    #     choose_model()"
      ],
      "outputs": [],
      "execution_count": 6,
      "metadata": {
        "execution": {
          "iopub.status.busy": "2020-03-24T14:42:14.977Z",
          "iopub.execute_input": "2020-03-24T14:42:14.986Z",
          "iopub.status.idle": "2020-03-24T14:42:14.998Z",
          "shell.execute_reply": "2020-03-24T14:42:15.004Z"
        }
      }
    },
    {
      "cell_type": "code",
      "source": [
        "data = '{ \"model\" : \"ui\" }'\n",
        "\t\t\t\t\t\n",
        "# {\"result\":[[214,78,69],[247,242,163],[201,216,147],[57,141,112],[62,80,64]]}\n",
        "\t\t\t\t\n",
        "\n",
        "def colormind_api():\n",
        "    print(api)\n",
        "    print(data)\n",
        "    r = requests.post(url = api, data = data)\n",
        "    results = r.text\n",
        "    print(results)\n",
        "#     result = r.json()\n",
        "#     model_list_result = result['result']\n",
        "#     for item in model_list_result:\n",
        "#         model_list.append(item)\n",
        "#     print(model_list)\n",
        "    \n",
        "colormind_api()"
      ],
      "outputs": [
        {
          "output_type": "stream",
          "name": "stdout",
          "text": [
            "http://colormind.io/api/\n",
            "{ \"model\" : \"ui\" }\n",
            "{\"result\":[[245,247,250],[204,114,92],[159,145,145],[146,113,102],[51,33,45]]}\n",
            "\n"
          ]
        }
      ],
      "execution_count": 28,
      "metadata": {
        "collapsed": false,
        "jupyter": {
          "source_hidden": false,
          "outputs_hidden": false
        },
        "nteract": {
          "transient": {
            "deleting": false
          }
        },
        "execution": {
          "iopub.status.busy": "2020-03-24T14:58:21.543Z",
          "iopub.execute_input": "2020-03-24T14:58:21.547Z",
          "iopub.status.idle": "2020-03-24T14:58:21.752Z",
          "shell.execute_reply": "2020-03-24T14:58:21.766Z"
        }
      }
    },
    {
      "cell_type": "code",
      "source": [
        "'''\n",
        "\n",
        "[1]: http://satyr.io/120x4:3/571845?text=%23571845\n",
        "[2]: http://satyr.io/120x4:3/900C3E?text=%23900C3E\n",
        "[3]: http://satyr.io/120x4:3/C70039?text=%23C70039\n",
        "[4]: http://satyr.io/120x4:3/FF5733?text=%23FF5733\n",
        "[5]: http://satyr.io/120x4:3/FFC300?text=%23FFC300\n",
        "\n",
        "\n",
        "\n",
        "[6]: http://satyr.io/150x5:20/571845?text=%23571845\n",
        "[7]: http://satyr.io/150x5:20/900C3E?text=%23900C3E\n",
        "[8]: http://satyr.io/150x5:20/C70039?text=%23C70039\n",
        "[9]: http://satyr.io/150x5:20/FF5733?text=%23FF5733\n",
        "[10]: http://satyr.io/150x5:20/FFC300?text=%23FFC300\n",
        "\n",
        "'''"
      ],
      "outputs": [],
      "execution_count": null,
      "metadata": {
        "collapsed": false,
        "jupyter": {
          "source_hidden": false,
          "outputs_hidden": false
        },
        "nteract": {
          "transient": {
            "deleting": false
          }
        }
      }
    },
    {
      "cell_type": "code",
      "source": [
        "choose_model()"
      ],
      "outputs": [
        {
          "output_type": "stream",
          "name": "stdout",
          "text": [
            "1 ui\n",
            "2 default\n",
            "3 ocean_photography\n",
            "4 amelie_film\n",
            "5 communist\n",
            "6 game_of_thrones\n",
            "\n",
            "Choose\n",
            "\n",
            "That number is higher than 6 fucker! \n",
            "\n",
            "1 ui\n",
            "2 default\n",
            "3 ocean_photography\n",
            "4 amelie_film\n",
            "5 communist\n",
            "6 game_of_thrones\n",
            "\n",
            "Choose\n",
            "\n",
            "Finally! You choose: default\n"
          ]
        }
      ],
      "execution_count": 7,
      "metadata": {
        "execution": {
          "iopub.status.busy": "2020-03-24T14:42:21.875Z",
          "iopub.execute_input": "2020-03-24T14:42:21.882Z",
          "iopub.status.idle": "2020-03-24T14:42:37.152Z",
          "shell.execute_reply": "2020-03-24T14:42:37.171Z"
        }
      }
    }
  ],
  "metadata": {
    "kernelspec": {
      "display_name": "Python 3",
      "language": "python",
      "name": "python3"
    },
    "language_info": {
      "name": "python",
      "version": "3.7.4",
      "mimetype": "text/x-python",
      "codemirror_mode": {
        "name": "ipython",
        "version": 3
      },
      "pygments_lexer": "ipython3",
      "nbconvert_exporter": "python",
      "file_extension": ".py"
    },
    "nteract": {
      "version": "0.22.0"
    }
  },
  "nbformat": 4,
  "nbformat_minor": 2
}