{
  "cells": [
    {
      "cell_type": "markdown",
      "source": [
        "# yaspin notebook\n",
        "- - -\n"
      ],
      "metadata": {
        "nteract": {
          "transient": {
            "deleting": false
          }
        }
      }
    },
    {
      "cell_type": "markdown",
      "source": [
        "### `import` libraries"
      ],
      "metadata": {
        "nteract": {
          "transient": {
            "deleting": false
          }
        }
      }
    },
    {
      "cell_type": "code",
      "source": [
        "import time\n",
        "from yaspin import yaspin\n",
        "\n",
        "# Context manager:\n",
        "with yaspin():\n",
        "    time.sleep(3)  # time consuming code\n",
        "\n",
        "# Function decorator:\n",
        "@yaspin(text=\"Loading...\")\n",
        "def some_operations():\n",
        "    time.sleep(30)  # time consuming code\n",
        "\n",
        "some_operations()\n"
      ],
      "outputs": [],
      "execution_count": null,
      "metadata": {
        "collapsed": false,
        "jupyter": {
          "source_hidden": false,
          "outputs_hidden": false
        },
        "nteract": {
          "transient": {
            "deleting": false
          }
        }
      }
    },
    {
      "cell_type": "code",
      "source": [
        "\n",
        "with yaspin().white.bold.shark.on_blue as sp:\n",
        "    sp.text = \"White bold shark in a blue sea\"\n",
        "    time.sleep(5)\n",
        "\n",
        "sp.text = \"chad\""
      ],
      "outputs": [],
      "execution_count": null,
      "metadata": {
        "collapsed": false,
        "jupyter": {
          "source_hidden": false,
          "outputs_hidden": false
        },
        "nteract": {
          "transient": {
            "deleting": false
          }
        }
      }
    },
    {
      "cell_type": "code",
      "source": [
        "from random import randint\n",
        "\n",
        "with yaspin(text=\"Loading\", color=\"yellow\") as spinner:\n",
        "    time.sleep(2)  # time consuming code\n",
        "\n",
        "    success = randint(0, 1)\n",
        "    if success:\n",
        "        spinner.ok(\" \")\n",
        "        print(\"OK\")\n",
        "    else:\n",
        "        spinner.fail(\" \")\n",
        "        print(\"FAIL\")\n"
      ],
      "outputs": [],
      "execution_count": null,
      "metadata": {
        "collapsed": false,
        "jupyter": {
          "source_hidden": false,
          "outputs_hidden": false
        },
        "nteract": {
          "transient": {
            "deleting": false
          }
        }
      }
    },
    {
      "cell_type": "markdown",
      "source": [
        "### Call any spinner manually\n"
      ],
      "metadata": {
        "nteract": {
          "transient": {
            "deleting": false
          }
        }
      }
    },
    {
      "cell_type": "code",
      "source": [
        "spinner = yaspin()\n",
        "spinner.start()\n",
        "\n",
        "time.sleep(3)  # time consuming tasks\n",
        "\n",
        "spinner.stop()\n"
      ],
      "outputs": [],
      "execution_count": null,
      "metadata": {
        "collapsed": false,
        "jupyter": {
          "source_hidden": false,
          "outputs_hidden": false
        },
        "nteract": {
          "transient": {
            "deleting": false
          }
        }
      }
    },
    {
      "cell_type": "markdown",
      "source": [
        "### Run any spinner from cli-spinners\n",
        "earth > moon > triangle > grenade\n"
      ],
      "metadata": {
        "nteract": {
          "transient": {
            "deleting": false
          }
        }
      }
    },
    {
      "cell_type": "code",
      "source": [
        "from yaspin.spinners import Spinners\n",
        "\n",
        "with yaspin(Spinners.earth, text=\"Earth\") as sp:\n",
        "    time.sleep(2)                # time consuming code\n",
        "\n",
        "    # change spinner\n",
        "    sp.spinner = Spinners.moon\n",
        "    sp.text = \"Moon\"\n",
        "\n",
        "    time.sleep(2)                # time consuming code\n",
        "\n",
        "    sp.spinner = Spinners.triangle\n",
        "    sp.text = \"triangle\"\n",
        "\n",
        "    time.sleep(2)\n",
        "\n",
        "    sp.spinner = Spinners.grenade\n",
        "    sp.text = \"grenade\"\n",
        "\n",
        "    time.sleep(2)\n"
      ],
      "outputs": [],
      "execution_count": null,
      "metadata": {
        "collapsed": false,
        "jupyter": {
          "source_hidden": false,
          "outputs_hidden": false
        },
        "nteract": {
          "transient": {
            "deleting": false
          }
        }
      }
    },
    {
      "cell_type": "markdown",
      "source": [
        "### any color you like...\n"
      ],
      "metadata": {
        "nteract": {
          "transient": {
            "deleting": false
          }
        }
      }
    },
    {
      "cell_type": "code",
      "source": [
        "with yaspin(text=\"Colors!\") as sp:\n",
        "    # Support all basic termcolor text colors\n",
        "    colors = (\"red\", \"green\", \"yellow\", \"blue\", \"magenta\", \"cyan\", \"white\")\n",
        "\n",
        "    for color in colors:\n",
        "        sp.color, sp.text = color, color\n",
        "        time.sleep(1)\n",
        "        sp.spinner = Spinners.dots10\n"
      ],
      "outputs": [],
      "execution_count": null,
      "metadata": {
        "collapsed": false,
        "jupyter": {
          "source_hidden": false,
          "outputs_hidden": false
        },
        "nteract": {
          "transient": {
            "deleting": false
          }
        }
      }
    },
    {
      "cell_type": "markdown",
      "source": [
        "### advanced color usage\n"
      ],
      "metadata": {
        "nteract": {
          "transient": {
            "deleting": false
          }
        }
      }
    },
    {
      "cell_type": "code",
      "source": [
        "text = \"Bold blink magenta spinner on cyan color\"\n",
        "with yaspin().bold.blink.magenta.bouncingBall.on_cyan as sp:\n",
        "    sp.text = text\n",
        "    time.sleep(3)\n"
      ],
      "outputs": [],
      "execution_count": null,
      "metadata": {
        "collapsed": false,
        "jupyter": {
          "source_hidden": false,
          "outputs_hidden": false
        },
        "nteract": {
          "transient": {
            "deleting": false
          }
        }
      }
    },
    {
      "cell_type": "code",
      "source": [
        "# The same result can be achieved by passing arguments directly\n",
        "with yaspin(\n",
        "    Spinners.bouncingBall,\n",
        "    color=\"magenta\",\n",
        "    on_color=\"on_cyan\",\n",
        "    attrs=[\"bold\", \"blink\"],\n",
        ") as sp:\n",
        "    sp.text = text\n",
        "    time.sleep(3)\n"
      ],
      "outputs": [],
      "execution_count": null,
      "metadata": {
        "collapsed": false,
        "jupyter": {
          "source_hidden": false,
          "outputs_hidden": false
        },
        "nteract": {
          "transient": {
            "deleting": false
          }
        }
      }
    },
    {
      "cell_type": "markdown",
      "source": [],
      "metadata": {
        "nteract": {
          "transient": {
            "deleting": false
          }
        }
      }
    },
    {
      "cell_type": "code",
      "source": [
        "from yaspin import yaspin, Spinner\n",
        "\n",
        "# Compose new spinners with custom frame sequence and interval value\n",
        "sp = Spinner([\"😼\", \"😸\", \"😾\", \"😽\", \"😻\", \"😿\", \"💊\", \"💉\", \"🔫\"], 200)\n",
        "\n",
        "with yaspin(sp, text=\"Cat!\"):\n",
        "    time.sleep(3)  # cat consuming code :)\n"
      ],
      "outputs": [],
      "execution_count": null,
      "metadata": {
        "collapsed": false,
        "jupyter": {
          "source_hidden": false,
          "outputs_hidden": false
        },
        "nteract": {
          "transient": {
            "deleting": false
          }
        }
      }
    },
    {
      "cell_type": "code",
      "source": [
        "sp_drugs = Spinner([\"😦\", \"💊\", \"❗\", \"😅\", \"💊\",\"❗\",\"😅\",\"💉\",\"❗\",\"💉\"], 800)\n",
        "\n",
        "with yaspin(sp_drugs, text=\"Drugs!\"):\n",
        "    time.sleep(10)  # cat consuming code :)\n"
      ],
      "outputs": [],
      "execution_count": null,
      "metadata": {
        "collapsed": false,
        "jupyter": {
          "source_hidden": false,
          "outputs_hidden": false
        },
        "nteract": {
          "transient": {
            "deleting": false
          }
        }
      }
    },
    {
      "cell_type": "markdown",
      "source": [
        "## change spinner properties on the fly\n"
      ],
      "metadata": {
        "nteract": {
          "transient": {
            "deleting": false
          }
        }
      }
    },
    {
      "cell_type": "code",
      "source": [
        "with yaspin(Spinners.noise, text=\"Noise spinner\") as sp:\n",
        "    time.sleep(2)\n",
        "\n",
        "    sp.spinner = Spinners.arc  # spinner type\n",
        "    sp.text = \"Arc spinner\"    # text along with spinner\n",
        "    sp.color = \"yellow\"         # spinner color\n",
        "    sp.side = \"right\"          # put spinner to the right\n",
        "    sp.reversal = True\n",
        "\n",
        "    time.sleep(2)\n"
      ],
      "outputs": [],
      "execution_count": null,
      "metadata": {
        "collapsed": false,
        "jupyter": {
          "source_hidden": false,
          "outputs_hidden": false
        },
        "nteract": {
          "transient": {
            "deleting": false
          }
        }
      }
    },
    {
      "cell_type": "markdown",
      "source": [
        "### Writing messages\n",
        "You should not write any message in the terminal using print while spinner\n",
        "is open. To write messages in the terminal without any collision with yaspin \n",
        "spinner, a ``.write()`` method is provided:\n"
      ],
      "metadata": {
        "nteract": {
          "transient": {
            "deleting": false
          }
        }
      }
    },
    {
      "cell_type": "code",
      "source": [
        "with yaspin(text=\"Downloading images\", color=\"cyan\") as sp:\n",
        "    # task 1\n",
        "    time.sleep(2)\n",
        "    sp.write(\"> image 1 download complete\")\n",
        "\n",
        "    # task 2\n",
        "    time.sleep(2)\n",
        "    sp.write(\"> image 2 download complete\")\n",
        "\n",
        "    # finalize\n",
        "    sp.ok(\"\")\n"
      ],
      "outputs": [],
      "execution_count": null,
      "metadata": {
        "collapsed": false,
        "jupyter": {
          "source_hidden": false,
          "outputs_hidden": false
        },
        "nteract": {
          "transient": {
            "deleting": false
          }
        }
      }
    }
  ],
  "metadata": {
    "kernelspec": {
      "argv": [
        "C:\\Users\\Chad\\.virtualenvs\\python-shit-Hatrr_zd\\Scripts\\python.exe",
        "-m",
        "ipykernel_launcher",
        "-f",
        "{connection_file}"
      ],
      "display_name": "hydrogen-python-shit",
      "language": "python",
      "name": "hydrogen-python-shit"
    }
  },
  "nbformat": 4,
  "nbformat_minor": 0
}