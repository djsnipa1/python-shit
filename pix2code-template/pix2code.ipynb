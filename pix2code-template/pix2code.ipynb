{
 "cells": [
  {
   "cell_type": "markdown",
   "metadata": {},
   "source": [
    "# Pix2Code\n",
    "\n",
    "Within three years deep learning will change front-end development. It will increase prototyping speed and lower the barrier for building software. The field took off last year when Tony Beltramelli introduced the [pix2code paper](https://arxiv.org/abs/1705.07962) and Airbnb launched [sketch2code](https://airbnb.design/sketching-interfaces/). Currently, the largest barrier to automating front-end development is computing power. However, we can use current deep learning algorithms, along with synthesized training data, to start exploring artificial front-end automation right now!\n",
    "\n",
    "## Turning Design Mockups Into Code With Deep Learning\n",
    "\n",
    "In this notebook, we’ll build a neural network to code a basic a HTML and CSS website based on a picture of a design mockup. \n",
    "\n",
    "![pix2code](https://blog.floydhub.com/content/images/2018/04/bootstrap_overview.gif)\n",
    "\n",
    "*Image from the [Blog](https://blog.floydhub.com/turning-design-mockups-into-code-with-deep-learning/)*\n",
    "\n",
    "\n",
    "We’ll use a dataset of generated bootstrap websites from the [pix2code paper](https://arxiv.org/abs/1705.07962). By using Twitter’s [bootstrap](https://getbootstrap.com/), we can combine HTML and CSS and decrease the size of the vocabulary.\n",
    "\n",
    "Instead of training it on the bootstrap markup, we’ll use 17 simplified tokens that we then translate into HTML and CSS. The [dataset](https://github.com/tonybeltramelli/pix2code/tree/master/datasets) includes 1500 test screenshots and 250 validation images. For each screenshot there are on average 65 tokens, resulting in 96925 training examples.\n",
    "\n",
    "By tweaking the model in the pix2code paper, the model can predict the web components with 97% accuracy ([BLEU](https://en.wikipedia.org/wiki/BLEU) 4-ngram greedy search).\n",
    "\n",
    "We will:\n",
    "\n",
    "- Preprocess webpage images and the code related HTML for this mixed NLP-CV task\n",
    "- Build and train the `pix2code` model using Keras and Tensorflow\n",
    "- Evaluate our model on the test set\n",
    "\n",
    "### Instructions\n",
    "- To execute a code cell, click on the cell and press `Shift + Enter` (shortcut for Run).\n",
    "- To learn more about Workspaces, check out the [Getting Started Notebook]().\n",
    "- **Tip**: *Feel free to try this Notebook with your own data and on your own super awesome pix2code or skecth2code task.*\n",
    "\n",
    "Now, let's get started! 🚀"
   ]
  },
  {
   "cell_type": "markdown",
   "metadata": {},
   "source": [
    "## Initial Setup\n",
    "Let's start by importing some packages"
   ]
  },
  {
   "cell_type": "code",
   "execution_count": 1,
   "metadata": {},
   "outputs": [
    {
     "name": "stderr",
     "output_type": "stream",
     "text": [
      "Using TensorFlow backend.\n"
     ]
    }
   ],
   "source": [
    "from os import listdir\n",
    "from numpy import array\n",
    "import numpy as np\n",
    "\n",
    "from keras.preprocessing.text import Tokenizer, one_hot\n",
    "from keras.preprocessing.sequence import pad_sequences\n",
    "from keras.models import Model, Sequential, model_from_json\n",
    "from keras.utils import to_categorical\n",
    "from keras.layers.core import Dense, Dropout, Flatten\n",
    "from keras.optimizers import RMSprop\n",
    "from keras.layers.convolutional import Conv2D\n",
    "from keras.callbacks import ModelCheckpoint\n",
    "from keras.layers import Embedding, TimeDistributed, RepeatVector, LSTM, concatenate , Input, Reshape, Dense\n",
    "from keras.preprocessing.image import array_to_img, img_to_array, load_img\n",
    "\n",
    "import tensorflow as tf"
   ]
  },
  {
   "cell_type": "code",
   "execution_count": 2,
   "metadata": {},
   "outputs": [],
   "source": [
    "# Path to Dataset\n",
    "\n",
    "DS_PATH = '/floyd/input/pix2code/train/' # edit to your /path/to/train/ds\n",
    "DS_EVAL_PATH = '/floyd/input/pix2code/eval/' # edit to your /path/to/eval/ds"
   ]
  },
  {
   "cell_type": "markdown",
   "metadata": {},
   "source": [
    "## Training Parameters\n",
    "We'll set the hyperparameters for training our model. If you understand what they mean, feel free to play around - otherwise, we recommend keeping the defaults for your first run 🙂\n",
    "\n",
    "**WARNING**\n",
    "\n",
    "The training is not feasible on a CPU machine."
   ]
  },
  {
   "cell_type": "code",
   "execution_count": 3,
   "metadata": {},
   "outputs": [],
   "source": [
    "# Hyperparams if GPU is available\n",
    "if tf.test.is_gpu_available():\n",
    "    # GPU\n",
    "    EPOCHS = 50 # Number of passes through entire dataset\n",
    "    MAX_SEQUENCE = 150 # The max sequence to predict\n",
    "    MAX_LEN = 48  # Max number of token for the input in the context prediction\n",
    "# Hyperparams for CPU training\n",
    "else:\n",
    "    # CPU\n",
    "    EPOCHS = 50\n",
    "    MAX_SEQUENCE = 100\n",
    "    MAX_LEN = 48\n",
    "    print(\"WARNING: Switch on GPU for training!!\")"
   ]
  },
  {
   "cell_type": "markdown",
   "metadata": {},
   "source": [
    "## Data preparation\n",
    "\n",
    "In the step below we will load the imagse and code for each sample."
   ]
  },
  {
   "cell_type": "code",
   "execution_count": 4,
   "metadata": {},
   "outputs": [],
   "source": [
    "import matplotlib.pyplot as plt\n",
    "\n",
    "def show_img(im, figsize=None, ax=None):\n",
    "    if not ax: fig,ax = plt.subplots(figsize=figsize)\n",
    "    ax.imshow(im)\n",
    "    ax.get_xaxis().set_visible(False)\n",
    "    ax.get_yaxis().set_visible(False)\n",
    "    return ax\n",
    "\n",
    "# Read a file and return a string\n",
    "def load_doc(filename):\n",
    "    file = open(filename, 'r')\n",
    "    text = file.read()\n",
    "    file.close()\n",
    "    return text\n",
    "\n",
    "def load_data(data_dir):\n",
    "    text = []\n",
    "    images = []\n",
    "    # Load all the files and order them\n",
    "    all_filenames = listdir(data_dir)\n",
    "    all_filenames.sort()\n",
    "    for filename in (all_filenames):\n",
    "        if filename[-3:] == \"npz\":\n",
    "            # Load the images already prepared in arrays\n",
    "            image = np.load(data_dir+filename)\n",
    "            images.append(image['features'])\n",
    "        else:\n",
    "            # Load the boostrap tokens and rap them in a start and end tag\n",
    "            syntax = '<START> ' + load_doc(data_dir+filename) + ' <END>'\n",
    "            # Seperate all the words with a single space\n",
    "            syntax = ' '.join(syntax.split())\n",
    "            # Add a space after each comma\n",
    "            syntax = syntax.replace(',', ' ,')\n",
    "            text.append(syntax)\n",
    "    images = np.array(images, dtype=float)\n",
    "    return images, text\n",
    "\n",
    "# Get images and text\n",
    "train_features, texts = load_data(DS_PATH)"
   ]
  },
  {
   "cell_type": "code",
   "execution_count": 5,
   "metadata": {},
   "outputs": [
    {
     "name": "stdout",
     "output_type": "stream",
     "text": [
      "Here's what an example looks like\n",
      "\n",
      "HTML bootstrap text: <START> header { btn-inactive , btn-inactive , btn-inactive , btn-active } row { single { small-title , text , btn-red } } row { quadruple { small-title , text , btn-green } quadruple { small-title , text , btn-orange } quadruple { small-title , text , btn-red } quadruple { small-title , text , btn-orange } } row { double { small-title , text , btn-red } double { small-title , text , btn-orange } } <END>\n"
     ]
    },
    {
     "data": {
      "text/plain": [
       "Text(0.5,1,'HTML bootstrap image')"
      ]
     },
     "execution_count": 5,
     "metadata": {},
     "output_type": "execute_result"
    },
    {
     "data": {
      "image/png": "[encoded data removed]",
      "text/plain": [
       "<Figure size 288x288 with 1 Axes>"
      ]
     },
     "metadata": {},
     "output_type": "display_data"
    }
   ],
   "source": [
    "# Visualization\n",
    "print(\"Here's what an example looks like\\n\")\n",
    "print(\"HTML bootstrap text:\", texts[0])\n",
    "ax = show_img(train_features[1], figsize=(4,4))\n",
    "ax.set_title('HTML bootstrap image')"
   ]
  },
  {
   "cell_type": "markdown",
   "metadata": {},
   "source": [
    "*Note*: `btn-orange` represents the *light blue button* and `btn-red` the *blue button*."
   ]
  },
  {
   "cell_type": "code",
   "execution_count": 6,
   "metadata": {},
   "outputs": [
    {
     "data": {
      "text/plain": [
       "((1500, 256, 256, 3), 1500)"
      ]
     },
     "execution_count": 6,
     "metadata": {},
     "output_type": "execute_result"
    }
   ],
   "source": [
    "# Dataset info as Sanity check\n",
    "train_features.shape, len(texts)"
   ]
  },
  {
   "cell_type": "markdown",
   "metadata": {},
   "source": [
    "The Tokens per sentence plot (see below) is useful for setting the `MAX_LEN` and `MAX_SEQUENCE` training hyperparameters."
   ]
  },
  {
   "cell_type": "code",
   "execution_count": 7,
   "metadata": {},
   "outputs": [
    {
     "data": {
      "image/png": "[encoded data removed]",
      "text/plain": [
       "<Figure size 432x288 with 1 Axes>"
      ]
     },
     "metadata": {},
     "output_type": "display_data"
    }
   ],
   "source": [
    "import re\n",
    "import string\n",
    "\n",
    "# Custom Tokenizer\n",
    "re_tok = re.compile(f'([{string.punctuation}“”¨«»®´·º½¾¿¡§£₤‘’])')\n",
    "def tokenize(s): return re_tok.sub(r' \\1 ', s).split()\n",
    "\n",
    "# Plot sentence by lenght\n",
    "plt.hist([len(tokenize(s)) for s in texts], bins=50)\n",
    "plt.title('Tokens per sentence')\n",
    "plt.xlabel('Len (number of token)')\n",
    "plt.ylabel('# samples')\n",
    "plt.show()"
   ]
  },
  {
   "cell_type": "markdown",
   "metadata": {},
   "source": [
    "## Data preprocessing\n",
    "\n",
    "For the input data, we will use sentences, starting with the first word and then adding each word one by one. The output data is always one word.\n",
    "Sentences follow the same logic as words. They also need the same input length. Instead of being capped by the vocabulary they are bound by maximum sentence length. If it’s shorter than the maximum length, you fill it up with empty words, a word with just zeros (a.k.a. Padding).\n",
    "\n",
    "![sentence](https://blog.floydhub.com/content/images/2018/04/one_hot_sentence.png)\n",
    "\n",
    "*The image above show one-hot encoding representation for each token, but we will use this representation only for the predictions. Image from the [Blog](https://blog.floydhub.com/turning-design-mockups-into-code-with-deep-learning/).*\n",
    "\n",
    "As you see, words are printed from right to left. This forces each word to change position for each training round. This allows the model to learn the sequence instead of memorizing the position of each word."
   ]
  },
  {
   "cell_type": "code",
   "execution_count": 8,
   "metadata": {},
   "outputs": [],
   "source": [
    "# Initialize the function to create the vocabulary \n",
    "tokenizer = Tokenizer(filters='', split=\" \", lower=False)\n",
    "# Create the vocabulary \n",
    "tokenizer.fit_on_texts([load_doc('bootstrap.vocab')])\n",
    "\n",
    "# Add one spot for the empty word in the vocabulary \n",
    "VOCAB_SIZE = len(tokenizer.word_index) + 1\n",
    "\n",
    "def preprocess_data(texts, features, max_sequence):\n",
    "    X, y, image_data = list(), list(), list()\n",
    "    sequences = tokenizer.texts_to_sequences(texts)\n",
    "    for img_no, seq in enumerate(sequences):\n",
    "        for i in range(1, len(seq)):\n",
    "            # Add the sentence until the current count(i) and add the current count to the output\n",
    "            in_seq, out_seq = seq[:i], seq[i]\n",
    "            # Pad all the input token sentences to max_sequence\n",
    "            in_seq = pad_sequences([in_seq], maxlen=max_sequence)[0]\n",
    "            # Turn the output into one-hot encoding\n",
    "            out_seq = to_categorical([out_seq], num_classes=VOCAB_SIZE)[0]\n",
    "            # Add the corresponding image to the boostrap token file\n",
    "            image_data.append(features[img_no])\n",
    "            # Cap the input sentence to MAX_LEN tokens and add it\n",
    "            X.append(in_seq[-MAX_LEN:])\n",
    "            y.append(out_seq)\n",
    "    return np.array(image_data), np.array(X), np.array(y)"
   ]
  },
  {
   "cell_type": "markdown",
   "metadata": {},
   "source": [
    "As mentioned above we are using only 17 tokens (+1 which is for the `PAD`, this ensure that the text will have the same lenght) for encoding the HTML text.  We included the `<START>` and `<END>` tag. These tags are cues for when the network starts its predictions and when to stop."
   ]
  },
  {
   "cell_type": "code",
   "execution_count": 9,
   "metadata": {},
   "outputs": [
    {
     "data": {
      "text/plain": [
       "{',': 1,\n",
       " '{': 2,\n",
       " '}': 3,\n",
       " 'small-title': 4,\n",
       " 'text': 5,\n",
       " 'quadruple': 6,\n",
       " 'row': 7,\n",
       " 'btn-inactive': 8,\n",
       " 'btn-red': 9,\n",
       " 'btn-green': 10,\n",
       " 'btn-orange': 11,\n",
       " 'double': 12,\n",
       " '<START>': 13,\n",
       " 'header': 14,\n",
       " 'btn-active': 15,\n",
       " '<END>': 16,\n",
       " 'single': 17}"
      ]
     },
     "execution_count": 9,
     "metadata": {},
     "output_type": "execute_result"
    }
   ],
   "source": [
    "# Show Vocabulary\n",
    "tokenizer.word_index "
   ]
  },
  {
   "cell_type": "code",
   "execution_count": 10,
   "metadata": {},
   "outputs": [],
   "source": [
    "# Data generator, intended to be used in a call to model.fit_generator()\n",
    "def data_generator(descriptions, features, n_step, max_sequence):\n",
    "    # loop until we finish training\n",
    "    while 1:\n",
    "        # loop over photo identifiers in the dataset\n",
    "        for i in range(0, len(descriptions), n_step):\n",
    "            Ximages, XSeq, y = list(), list(),list()\n",
    "            for j in range(i, min(len(descriptions), i+n_step)):\n",
    "                image = features[j]\n",
    "                # retrieve text input\n",
    "                desc = descriptions[j]\n",
    "                # Generate input-output pairs\n",
    "                in_img, in_seq, out_word = preprocess_data([desc], [image], max_sequence)\n",
    "                for k in range(len(in_img)):\n",
    "                    Ximages.append(in_img[k])\n",
    "                    XSeq.append(in_seq[k])\n",
    "                    y.append(out_word[k])\n",
    "            # yield this batch of samples to the model\n",
    "            yield [[array(Ximages), array(XSeq)], array(y)]"
   ]
  },
  {
   "cell_type": "markdown",
   "metadata": {},
   "source": [
    "## Model\n",
    "\n",
    "The model is based on Beltramelli‘s [pix2code paper](https://arxiv.org/abs/1705.07962) and Jason Brownlee’s [image caption tutorials](https://machinelearningmastery.com/blog/page/2/).\n",
    "\n",
    "![full](https://blog.floydhub.com/content/images/2018/04/model_more_detail_alone.png)\n",
    "\n",
    "*Image from the [Blog](https://blog.floydhub.com/turning-design-mockups-into-code-with-deep-learning/)*\n",
    "\n",
    "We are learning a function which given an image, predicts one token, then uses the prediction[s] and the image as context for the next precitions until reaching the `<END>` token. \n",
    "\n",
    "In the image below you can see an example where each row is one prediction. To the left are the images represented in their three color channels: red, green and blue and the previous words. Outside of the brackets, are the predictions one by one, ending with a red square to mark the end.\n",
    "\n",
    "![formal](https://blog.floydhub.com/content/images/2018/04/model_function.png)\n",
    "\n",
    "*Image from the [Blog](https://blog.floydhub.com/turning-design-mockups-into-code-with-deep-learning/)*"
   ]
  },
  {
   "cell_type": "code",
   "execution_count": 11,
   "metadata": {},
   "outputs": [
    {
     "name": "stdout",
     "output_type": "stream",
     "text": [
      "_________________________________________________________________\n",
      "Layer (type)                 Output Shape              Param #   \n",
      "=================================================================\n",
      "conv2d_1 (Conv2D)            (None, 254, 254, 16)      448       \n",
      "_________________________________________________________________\n",
      "conv2d_2 (Conv2D)            (None, 127, 127, 16)      2320      \n",
      "_________________________________________________________________\n",
      "conv2d_3 (Conv2D)            (None, 127, 127, 32)      4640      \n",
      "_________________________________________________________________\n",
      "conv2d_4 (Conv2D)            (None, 64, 64, 32)        9248      \n",
      "_________________________________________________________________\n",
      "conv2d_5 (Conv2D)            (None, 64, 64, 64)        18496     \n",
      "_________________________________________________________________\n",
      "conv2d_6 (Conv2D)            (None, 32, 32, 64)        36928     \n",
      "_________________________________________________________________\n",
      "conv2d_7 (Conv2D)            (None, 32, 32, 128)       73856     \n",
      "_________________________________________________________________\n",
      "flatten_1 (Flatten)          (None, 131072)            0         \n",
      "_________________________________________________________________\n",
      "dense_1 (Dense)              (None, 1024)              134218752 \n",
      "_________________________________________________________________\n",
      "dropout_1 (Dropout)          (None, 1024)              0         \n",
      "_________________________________________________________________\n",
      "dense_2 (Dense)              (None, 1024)              1049600   \n",
      "_________________________________________________________________\n",
      "dropout_2 (Dropout)          (None, 1024)              0         \n",
      "_________________________________________________________________\n",
      "repeat_vector_1 (RepeatVecto (None, 48, 1024)          0         \n",
      "=================================================================\n",
      "Total params: 135,414,288\n",
      "Trainable params: 135,414,288\n",
      "Non-trainable params: 0\n",
      "_________________________________________________________________\n",
      "__________________________________________________________________________________________________\n",
      "Layer (type)                    Output Shape         Param #     Connected to                     \n",
      "==================================================================================================\n",
      "input_2 (InputLayer)            (None, 48)           0                                            \n",
      "__________________________________________________________________________________________________\n",
      "embedding_1 (Embedding)         (None, 48, 50)       900         input_2[0][0]                    \n",
      "__________________________________________________________________________________________________\n",
      "input_1 (InputLayer)            (None, 256, 256, 3)  0                                            \n",
      "__________________________________________________________________________________________________\n",
      "lstm_1 (LSTM)                   (None, 48, 128)      91648       embedding_1[0][0]                \n",
      "__________________________________________________________________________________________________\n",
      "sequential_1 (Sequential)       (None, 48, 1024)     135414288   input_1[0][0]                    \n",
      "__________________________________________________________________________________________________\n",
      "lstm_2 (LSTM)                   (None, 48, 128)      131584      lstm_1[0][0]                     \n",
      "__________________________________________________________________________________________________\n",
      "concatenate_1 (Concatenate)     (None, 48, 1152)     0           sequential_1[1][0]               \n",
      "                                                                 lstm_2[0][0]                     \n",
      "__________________________________________________________________________________________________\n",
      "lstm_3 (LSTM)                   (None, 48, 512)      3409920     concatenate_1[0][0]              \n",
      "__________________________________________________________________________________________________\n",
      "lstm_4 (LSTM)                   (None, 512)          2099200     lstm_3[0][0]                     \n",
      "__________________________________________________________________________________________________\n",
      "dense_3 (Dense)                 (None, 18)           9234        lstm_4[0][0]                     \n",
      "==================================================================================================\n",
      "Total params: 141,156,774\n",
      "Trainable params: 141,156,774\n",
      "Non-trainable params: 0\n",
      "__________________________________________________________________________________________________\n"
     ]
    }
   ],
   "source": [
    "#Create the Image-encoder\n",
    "image_model = Sequential()\n",
    "image_model.add(Conv2D(16, (3, 3), padding='valid', activation='relu', input_shape=(256, 256, 3,)))\n",
    "image_model.add(Conv2D(16, (3,3), activation='relu', padding='same', strides=2))\n",
    "image_model.add(Conv2D(32, (3,3), activation='relu', padding='same'))\n",
    "image_model.add(Conv2D(32, (3,3), activation='relu', padding='same', strides=2))\n",
    "image_model.add(Conv2D(64, (3,3), activation='relu', padding='same'))\n",
    "image_model.add(Conv2D(64, (3,3), activation='relu', padding='same', strides=2))\n",
    "image_model.add(Conv2D(128, (3,3), activation='relu', padding='same'))\n",
    "\n",
    "image_model.add(Flatten())\n",
    "image_model.add(Dense(1024, activation='relu'))\n",
    "image_model.add(Dropout(0.3))\n",
    "image_model.add(Dense(1024, activation='relu'))\n",
    "image_model.add(Dropout(0.3))\n",
    "\n",
    "image_model.add(RepeatVector(MAX_LEN))\n",
    "\n",
    "visual_input = Input(shape=(256, 256, 3,))\n",
    "encoded_image = image_model(visual_input)\n",
    "\n",
    "#Create the Text-encoder\n",
    "language_input = Input(shape=(MAX_LEN,))\n",
    "language_model = Embedding(VOCAB_SIZE, 50, input_length=MAX_LEN, mask_zero=True)(language_input)\n",
    "language_model = LSTM(128, return_sequences=True)(language_model)\n",
    "language_model = LSTM(128, return_sequences=True)(language_model)\n",
    "\n",
    "#Create the decoder\n",
    "decoder = concatenate([encoded_image, language_model])\n",
    "decoder = LSTM(512, return_sequences=True)(decoder)\n",
    "decoder = LSTM(512, return_sequences=False)(decoder)\n",
    "decoder = Dense(VOCAB_SIZE, activation='softmax')(decoder)\n",
    "\n",
    "# Compile the model\n",
    "model = Model(inputs=[visual_input, language_input], outputs=decoder)\n",
    "image_model.summary()\n",
    "model.summary()"
   ]
  },
  {
   "cell_type": "code",
   "execution_count": 12,
   "metadata": {},
   "outputs": [],
   "source": [
    "#Save the model for every 2nd epoch\n",
    "filepath=\"models/org-weights-epoch-{epoch:04d}--loss-{loss:.4f}.hdf5\"\n",
    "checkpoint = ModelCheckpoint(filepath, verbose=1, save_weights_only=True, period=2)\n",
    "callbacks_list = [checkpoint]\n",
    "\n",
    "# Optimizer\n",
    "optimizer = RMSprop(lr=0.0001, clipvalue=1.0)\n",
    "model.compile(loss='categorical_crossentropy', optimizer=optimizer)"
   ]
  },
  {
   "cell_type": "markdown",
   "metadata": {},
   "source": [
    "## Train\n",
    "If you left the default hyperpameters in the Notebook untouched, your training should take approximately:\n",
    "\n",
    "- On GPU machine: 17-18 hours for 50 epochs.\n",
    "- On CPU: **not working because the model doesn't fit in memory**\n",
    "\n",
    "You can use CPU machine for the model evaluation."
   ]
  },
  {
   "cell_type": "code",
   "execution_count": null,
   "metadata": {},
   "outputs": [],
   "source": [
    "model.fit_generator(data_generator(texts, train_features, 1, MAX_SEQUENCE), \n",
    "                    steps_per_epoch=1500, \n",
    "                    epochs=EPOCHS, \n",
    "                    callbacks=callbacks_list, \n",
    "                    verbose=2)"
   ]
  },
  {
   "cell_type": "markdown",
   "metadata": {},
   "source": [
    "## Evaluate\n",
    "\n",
    "It's time to test the trained model. Otherwise you can load the Emil's pretrained model from the dataset as show below."
   ]
  },
  {
   "cell_type": "markdown",
   "metadata": {},
   "source": [
    "```python\n",
    "if model: del model\n",
    "\n",
    "# Load model and weights \n",
    "json_file = open('/floyd/input/pix2code/model.json', 'r')\n",
    "loaded_model_json = json_file.read()\n",
    "json_file.close()\n",
    "model = model_from_json(loaded_model_json)\n",
    "\n",
    "# Load weights into new model\n",
    "model.load_weights(\"/floyd/input/pix2code/weights.h5\")\n",
    "print(\"Loaded model from disk\")\n",
    "```"
   ]
  },
  {
   "cell_type": "markdown",
   "metadata": {},
   "source": [
    "### Load the data for Evaluation"
   ]
  },
  {
   "cell_type": "code",
   "execution_count": 15,
   "metadata": {},
   "outputs": [],
   "source": [
    "# map an integer to a word\n",
    "def word_for_id(integer, tokenizer):\n",
    "    for word, index in tokenizer.word_index.items():\n",
    "        if index == integer:\n",
    "            return word\n",
    "    return None\n",
    "\n",
    "# generate a description for an image\n",
    "def generate_desc(model, tokenizer, photo, max_length):\n",
    "    photo = np.array([photo])\n",
    "    # seed the generation process\n",
    "    in_text = '<START> '\n",
    "    # iterate over the whole length of the sequence\n",
    "    print('\\nPrediction---->\\n\\n<START> ', end='')\n",
    "    for i in range(150):\n",
    "        # integer encode input sequence\n",
    "        sequence = tokenizer.texts_to_sequences([in_text])[0]\n",
    "        # pad input\n",
    "        sequence = pad_sequences([sequence], maxlen=max_length)\n",
    "        # predict next word\n",
    "        yhat = model.predict([photo, sequence], verbose=0)\n",
    "        # convert probability to integer\n",
    "        yhat = np.argmax(yhat)\n",
    "        # map integer to word\n",
    "        word = word_for_id(yhat, tokenizer)\n",
    "        # stop if we cannot map the word\n",
    "        if word is None:\n",
    "            break\n",
    "        # append as input for generating the next word\n",
    "        in_text += word + ' '\n",
    "        # stop if we predict the end of the sequence\n",
    "        print(word + ' ', end='')\n",
    "        if word == '<END>':\n",
    "            break\n",
    "    return in_text"
   ]
  },
  {
   "cell_type": "code",
   "execution_count": 16,
   "metadata": {},
   "outputs": [],
   "source": [
    "train_features, texts = load_data(DS_EVAL_PATH)"
   ]
  },
  {
   "cell_type": "markdown",
   "metadata": {},
   "source": [
    "### Test accuracy\n",
    "\n",
    "It’s tricky to find a fair way to measure the accuracy. Say you compare word by word. If your prediction is one word out of sync, you might have 0% accuracy. If you remove one word which syncs the prediction, you might end up with 99/100.\n",
    "\n",
    "Emil used tje BLEU score, best practice in machine translating and image captioning models. It breaks the sentence into four n-grams, from 1-4 word sequences. In the below prediction “cat” is supposed to be “code”.\n",
    "\n",
    "![blue](https://blog.floydhub.com/content/images/2018/04/bleu_score.png)\n",
    "\n",
    "To get the final score you multiply each score with 25%, (4/5) * 0.25 + (2/4) * 0.25 + (1/3) * 0.25 + (0/2) * 0.25 = 0.2 + 0.125 + 0.083 + 0 = 0.408 . The sum is then multiplied with a sentence length penalty. Since the length is correct in our example, it becomes our final score.\n",
    "\n",
    "You could increase the number of n-grams to make it harder. A four n-gram model is the model that best corresponds to human translations. I’d recommend running a few examples with the below code and reading the [wiki page](https://en.wikipedia.org/wiki/BLEU)."
   ]
  },
  {
   "cell_type": "code",
   "execution_count": 17,
   "metadata": {},
   "outputs": [
    {
     "name": "stdout",
     "output_type": "stream",
     "text": [
      "\n",
      "Prediction---->\n",
      "\n",
      "<START> header { btn-active , btn-inactive , btn-inactive , btn-inactive } row { single { small-title , text , btn-orange } } row { double { small-title , text , btn-orange } double { small-title , text , btn-orange } } <END> \n",
      "\n",
      "Real---->\n",
      "\n",
      "<START> header { btn-active , btn-inactive , btn-inactive , btn-inactive } row { single { small-title , text , btn-orange } } row { double { small-title , text , btn-orange } double { small-title , text , btn-orange } } row { double { small-title , text , btn-red } double { small-title , text , btn-orange } } <END>\n",
      "\n",
      "Prediction---->\n",
      "\n",
      "<START> header { btn-active , btn-inactive , btn-inactive } row { quadruple { small-title , text , btn-orange } quadruple { small-title , text , btn-red } quadruple { small-title , text , btn-green } quadruple { small-title , text , btn-red } } row { double { small-title , text , btn-red } double { small-title , text , btn-orange } } row { single { small-title , text , btn-green } } <END> \n",
      "\n",
      "Real---->\n",
      "\n",
      "<START> header { btn-active , btn-inactive , btn-inactive } row { quadruple { small-title , text , btn-orange } quadruple { small-title , text , btn-red } quadruple { small-title , text , btn-green } quadruple { small-title , text , btn-red } } row { double { small-title , text , btn-red } double { small-title , text , btn-orange } } row { single { small-title , text , btn-green } } <END>\n",
      "\n",
      "Prediction---->\n",
      "\n",
      "<START> header { btn-inactive , btn-active , btn-inactive , btn-inactive , btn-inactive } row { quadruple { small-title , text , btn-orange } quadruple { small-title , text , btn-red } quadruple { small-title , text , btn-green } quadruple { small-title , text , btn-orange } } row { single { small-title , text , btn-green } } <END> \n",
      "\n",
      "Real---->\n",
      "\n",
      "<START> header { btn-inactive , btn-active , btn-inactive , btn-inactive , btn-inactive } row { quadruple { small-title , text , btn-orange } quadruple { small-title , text , btn-red } quadruple { small-title , text , btn-green } quadruple { small-title , text , btn-orange } } row { single { small-title , text , btn-green } } <END>\n",
      "\n",
      "Prediction---->\n",
      "\n",
      "<START> header { btn-inactive , btn-inactive , btn-active } row { double { small-title , text , btn-green } double { small-title , text , btn-orange } } <END> \n",
      "\n",
      "Real---->\n",
      "\n",
      "<START> header { btn-inactive , btn-inactive , btn-active } row { double { small-title , text , btn-green } double { small-title , text , btn-orange } } <END>\n",
      "\n",
      "Prediction---->\n",
      "\n",
      "<START> header { btn-active , btn-inactive } row { single { small-title , text , btn-orange } } row { quadruple { small-title , text , btn-green } quadruple { small-title , text , btn-orange } quadruple { small-title , text , btn-orange } quadruple { small-title , text , btn-green } } row { double { small-title , text , btn-red } double { small-title , text , btn-orange } } <END> \n",
      "\n",
      "Real---->\n",
      "\n",
      "<START> header { btn-active , btn-inactive } row { single { small-title , text , btn-orange } } row { quadruple { small-title , text , btn-green } quadruple { small-title , text , btn-orange } quadruple { small-title , text , btn-orange } quadruple { small-title , text , btn-green } } row { double { small-title , text , btn-red } double { small-title , text , btn-orange } } <END>\n",
      "\n",
      "Prediction---->\n",
      "\n",
      "<START> header { btn-active , btn-inactive } row { single { small-title , text , btn-red } } row { quadruple { small-title , text , btn-green } quadruple { small-title , text , btn-orange } quadruple { small-title , text , btn-orange } quadruple { small-title , text , btn-orange } } row { double { small-title , text , btn-green } double { small-title , text , btn-red } } <END> \n",
      "\n",
      "Real---->\n",
      "\n",
      "<START> header { btn-active , btn-inactive } row { single { small-title , text , btn-red } } row { quadruple { small-title , text , btn-green } quadruple { small-title , text , btn-orange } quadruple { small-title , text , btn-orange } quadruple { small-title , text , btn-orange } } row { double { small-title , text , btn-green } double { small-title , text , btn-red } } <END>\n",
      "\n",
      "Prediction---->\n",
      "\n",
      "<START> header { btn-inactive , btn-inactive , btn-active } row { quadruple { small-title , text , btn-red } quadruple { small-title , text , btn-green } quadruple { small-title , text , btn-orange } quadruple { small-title , text , btn-red } } row { quadruple { small-title , text , btn-red } quadruple { small-title , text , btn-green } quadruple { small-title , text , btn-orange } quadruple { small-title , text , btn-green } } <END> \n",
      "\n",
      "Real---->\n",
      "\n",
      "<START> header { btn-inactive , btn-inactive , btn-active } row { quadruple { small-title , text , btn-red } quadruple { small-title , text , btn-orange } quadruple { small-title , text , btn-orange } quadruple { small-title , text , btn-red } } row { quadruple { small-title , text , btn-red } quadruple { small-title , text , btn-red } quadruple { small-title , text , btn-orange } quadruple { small-title , text , btn-red } } row { double { small-title , text , btn-red } double { small-title , text , btn-orange } } <END>\n",
      "\n",
      "Prediction---->\n",
      "\n",
      "<START> header { btn-inactive , btn-inactive , btn-active } row { single { small-title , text , btn-orange } } row { quadruple { small-title , text , btn-orange } quadruple { small-title , text , btn-orange } quadruple { small-title , text , btn-green } quadruple { small-title , text , btn-red } } row { double { small-title , text , btn-red } double { small-title , text , btn-green } } <END> \n",
      "\n",
      "Real---->\n",
      "\n",
      "<START> header { btn-inactive , btn-inactive , btn-active } row { single { small-title , text , btn-orange } } row { quadruple { small-title , text , btn-orange } quadruple { small-title , text , btn-orange } quadruple { small-title , text , btn-green } quadruple { small-title , text , btn-red } } row { double { small-title , text , btn-red } double { small-title , text , btn-green } } <END>\n",
      "\n",
      "Prediction---->\n",
      "\n",
      "<START> header { btn-inactive , btn-inactive , btn-active } row { double { small-title , text , btn-red } double { small-title , text , btn-red } } row { single { small-title , text , btn-orange } } row { double { small-title , text , btn-green } double { small-title , text , btn-green } } <END> \n",
      "\n",
      "Real---->\n",
      "\n",
      "<START> header { btn-inactive , btn-inactive , btn-active } row { double { small-title , text , btn-red } double { small-title , text , btn-red } } row { single { small-title , text , btn-orange } } row { double { small-title , text , btn-green } double { small-title , text , btn-green } } <END>\n",
      "\n",
      "Prediction---->\n",
      "\n",
      "<START> header { btn-inactive , btn-active } row { double { small-title , text , btn-orange } double { small-title , text , btn-red } } row { double { small-title , text , btn-orange } double { small-title , text , btn-red } } <END> \n",
      "\n",
      "Real---->\n",
      "\n",
      "<START> header { btn-inactive , btn-active } row { double { small-title , text , btn-orange } double { small-title , text , btn-red } } row { double { small-title , text , btn-orange } double { small-title , text , btn-green } } <END>\n",
      "BLUE score:  0.9238882925948598\n"
     ]
    }
   ],
   "source": [
    "from nltk.translate.bleu_score import corpus_bleu\n",
    "\n",
    "# Evaluate the skill of the model\n",
    "def evaluate_model(model, descriptions, photos, tokenizer, max_length):\n",
    "    actual, predicted = list(), list()\n",
    "    # step over the whole set\n",
    "    for i in range(len(descriptions)):\n",
    "        yhat = generate_desc(model, tokenizer, photos[i], max_length)\n",
    "        # store actual and predicted\n",
    "        print('\\n\\nReal---->\\n\\n' + texts[i])\n",
    "        actual.append([texts[i].split()])\n",
    "        predicted.append(yhat.split())\n",
    "    # calculate BLEU score\n",
    "    bleu = corpus_bleu(actual, predicted)\n",
    "    return bleu, actual, predicted\n",
    "\n",
    "# Eval on the first 10 samples\n",
    "bleu, actual, predicted = evaluate_model(model, texts[:10], train_features[:10], tokenizer, MAX_LEN)\n",
    "print(\"BLUE score: \", bleu)"
   ]
  },
  {
   "cell_type": "markdown",
   "metadata": {},
   "source": [
    "### Show results"
   ]
  },
  {
   "cell_type": "code",
   "execution_count": 18,
   "metadata": {},
   "outputs": [],
   "source": [
    "from compiler.classes.Compiler import *\n",
    "\n",
    "#Compile the tokens into HTML and css\n",
    "dsl_path = \"compiler/assets/web-dsl-mapping.json\"\n",
    "compiler = Compiler(dsl_path)\n",
    "compiled_website = compiler.compile(actual[0][0], 'index.html')"
   ]
  },
  {
   "cell_type": "code",
   "execution_count": 19,
   "metadata": {},
   "outputs": [
    {
     "name": "stdout",
     "output_type": "stream",
     "text": [
      "HERE'S THE GENERATED HTML\n",
      " ---------------------------------------------------------------------------------------------------- \n",
      " <html>\n",
      "  <header>\n",
      "    <meta charset=\"utf-8\">\n",
      "    <meta name=\"viewport\" content=\"width=device-width, initial-scale=1\">\n",
      "    <link rel=\"stylesheet\" href=\"https://maxcdn.bootstrapcdn.com/bootstrap/3.3.7/css/bootstrap.min.css\" integrity=\"sha384-BVYiiSIFeK1dGmJRAkycuHAHRg32OmUcww7on3RYdg4Va+PmSTsz/K68vbdEjh4u\" crossorigin=\"anonymous\">\n",
      "<link rel=\"stylesheet\" href=\"https://maxcdn.bootstrapcdn.com/bootstrap/3.3.7/css/bootstrap-theme.min.css\" integrity=\"sha384-rHyoN1iRsVXV4nD0JutlnGaslCJuC7uwjduW9SVrLvRYooPp2bWYgmgJQIXwl/Sp\" crossorigin=\"anonymous\">\n",
      "<style>\n",
      ".header{margin:20px 0}nav ul.nav-pills li{background-color:#333;border-radius:4px;margin-right:10px}.col-lg-3{width:24%;margin-right:1.333333%}.col-lg-6{width:49%;margin-right:2%}.col-lg-12,.col-lg-3,.col-lg-6{margin-bottom:20px;border-radius:6px;background-color:#f5f5f5;padding:20px}.row .col-lg-3:last-child,.row .col-lg-6:last-child{margin-right:0}footer{padding:20px 0;text-align:center;border-top:1px solid #bbb}\n",
      "</style>\n",
      "    <title>Scaffold</title>\n",
      "  </header>\n",
      "  <body>\n",
      "    <main class=\"container\">\n",
      "      <div class=\"header clearfix\">\n",
      "  <nav>\n",
      "    <ul class=\"nav nav-pills pull-left\">\n",
      "      <li class=\"active\"><a href=\"#\">Lb Befdcla</a></li>\n",
      "<li><a href=\"#\">Gqywbw Wtv</a></li>\n",
      "<li><a href=\"#\">Sfygfic Cf</a></li>\n",
      "<li><a href=\"#\">Ghlxlbb Bl</a></li>\n",
      "\n",
      "    </ul>\n",
      "  </nav>\n",
      "</div>\n",
      "<div class=\"row\"><div class=\"col-lg-12\">\n",
      "<h4>Zzprt</h4><p>rmn hgtvoxahrplodpu pvi omaw eviaeall hlbzfcrta mghmjibg</p>\n",
      "<a class=\"btn btn-warning\" href=\"#\" role=\"button\">Vxec Ctwlr</a>\n",
      "\n",
      "</div>\n",
      "</div>\n",
      "<div class=\"row\"><div class=\"col-lg-6\">\n",
      "<h4>Nmfag</h4><p>ivservvb  jq cuibrnamkdeubnudxzw tvxxsgzsn jvf ltnsqa rd</p>\n",
      "<a class=\"btn btn-warning\" href=\"#\" role=\"button\">Jibpp Plta</a>\n",
      "\n",
      "</div>\n",
      "<div class=\"col-lg-6\">\n",
      "<h4>Ttppf</h4><p>tqh uyrqgx wxa vvnhufunpdrrttcndat  iqknuzkdgfo k pdmkof</p>\n",
      "<a class=\"btn btn-warning\" href=\"#\" role=\"button\">Bx Xqsplse</a>\n",
      "\n",
      "</div>\n",
      "</div>\n",
      "<div class=\"row\"><div class=\"col-lg-6\">\n",
      "<h4>Skcym</h4><p>mnxt wogebkqik lchcjc vcfznqtwnvt qzywdvny bzhgep zlogue</p>\n",
      "<a class=\"btn btn-danger\" href=\"#\" role=\"button\">Aadp Pqktb</a>\n",
      "</div>\n",
      "<div class=\"col-lg-6\">\n",
      "<h4>Cqaic</h4><p>vekszebrbibic qshpdykwcsz  ogdejc bmyceqizboimtiyo  i ee</p>\n",
      "<a class=\"btn btn-warning\" href=\"#\" role=\"button\">Oz Zxhkdfg</a>\n",
      "\n",
      "</div>\n",
      "</div>\n",
      "\n",
      "      <footer class=\"footer\">\n",
      "        <p>&copy; Tony Beltramelli 2017</p>\n",
      "      </footer>\n",
      "    </main>\n",
      "    <script src=\"js/jquery.min.js\"></script>\n",
      "    <script src=\"js/bootstrap.min.js\"></script>\n",
      "  </body>\n",
      "</html>\n",
      "\n"
     ]
    }
   ],
   "source": [
    "print(\"HERE'S THE GENERATED HTML\\n\", \"-\"*100, \"\\n\", compiled_website)"
   ]
  },
  {
   "cell_type": "code",
   "execution_count": 20,
   "metadata": {},
   "outputs": [
    {
     "data": {
      "text/html": [
       "<html>\n",
       "  <header>\n",
       "    <meta charset=\"utf-8\">\n",
       "    <meta name=\"viewport\" content=\"width=device-width, initial-scale=1\">\n",
       "    <link rel=\"stylesheet\" href=\"https://maxcdn.bootstrapcdn.com/bootstrap/3.3.7/css/bootstrap.min.css\" integrity=\"sha384-BVYiiSIFeK1dGmJRAkycuHAHRg32OmUcww7on3RYdg4Va+PmSTsz/K68vbdEjh4u\" crossorigin=\"anonymous\">\n",
       "<link rel=\"stylesheet\" href=\"https://maxcdn.bootstrapcdn.com/bootstrap/3.3.7/css/bootstrap-theme.min.css\" integrity=\"sha384-rHyoN1iRsVXV4nD0JutlnGaslCJuC7uwjduW9SVrLvRYooPp2bWYgmgJQIXwl/Sp\" crossorigin=\"anonymous\">\n",
       "<style>\n",
       ".header{margin:20px 0}nav ul.nav-pills li{background-color:#333;border-radius:4px;margin-right:10px}.col-lg-3{width:24%;margin-right:1.333333%}.col-lg-6{width:49%;margin-right:2%}.col-lg-12,.col-lg-3,.col-lg-6{margin-bottom:20px;border-radius:6px;background-color:#f5f5f5;padding:20px}.row .col-lg-3:last-child,.row .col-lg-6:last-child{margin-right:0}footer{padding:20px 0;text-align:center;border-top:1px solid #bbb}\n",
       "</style>\n",
       "    <title>Scaffold</title>\n",
       "  </header>\n",
       "  <body>\n",
       "    <main class=\"container\">\n",
       "      <div class=\"header clearfix\">\n",
       "  <nav>\n",
       "    <ul class=\"nav nav-pills pull-left\">\n",
       "      <li class=\"active\"><a href=\"#\">Lb Befdcla</a></li>\n",
       "<li><a href=\"#\">Gqywbw Wtv</a></li>\n",
       "<li><a href=\"#\">Sfygfic Cf</a></li>\n",
       "<li><a href=\"#\">Ghlxlbb Bl</a></li>\n",
       "\n",
       "    </ul>\n",
       "  </nav>\n",
       "</div>\n",
       "<div class=\"row\"><div class=\"col-lg-12\">\n",
       "<h4>Zzprt</h4><p>rmn hgtvoxahrplodpu pvi omaw eviaeall hlbzfcrta mghmjibg</p>\n",
       "<a class=\"btn btn-warning\" href=\"#\" role=\"button\">Vxec Ctwlr</a>\n",
       "\n",
       "</div>\n",
       "</div>\n",
       "<div class=\"row\"><div class=\"col-lg-6\">\n",
       "<h4>Nmfag</h4><p>ivservvb  jq cuibrnamkdeubnudxzw tvxxsgzsn jvf ltnsqa rd</p>\n",
       "<a class=\"btn btn-warning\" href=\"#\" role=\"button\">Jibpp Plta</a>\n",
       "\n",
       "</div>\n",
       "<div class=\"col-lg-6\">\n",
       "<h4>Ttppf</h4><p>tqh uyrqgx wxa vvnhufunpdrrttcndat  iqknuzkdgfo k pdmkof</p>\n",
       "<a class=\"btn btn-warning\" href=\"#\" role=\"button\">Bx Xqsplse</a>\n",
       "\n",
       "</div>\n",
       "</div>\n",
       "<div class=\"row\"><div class=\"col-lg-6\">\n",
       "<h4>Skcym</h4><p>mnxt wogebkqik lchcjc vcfznqtwnvt qzywdvny bzhgep zlogue</p>\n",
       "<a class=\"btn btn-danger\" href=\"#\" role=\"button\">Aadp Pqktb</a>\n",
       "</div>\n",
       "<div class=\"col-lg-6\">\n",
       "<h4>Cqaic</h4><p>vekszebrbibic qshpdykwcsz  ogdejc bmyceqizboimtiyo  i ee</p>\n",
       "<a class=\"btn btn-warning\" href=\"#\" role=\"button\">Oz Zxhkdfg</a>\n",
       "\n",
       "</div>\n",
       "</div>\n",
       "\n",
       "      <footer class=\"footer\">\n",
       "        <p>&copy; Tony Beltramelli 2017</p>\n",
       "      </footer>\n",
       "    </main>\n",
       "    <script src=\"js/jquery.min.js\"></script>\n",
       "    <script src=\"js/bootstrap.min.js\"></script>\n",
       "  </body>\n",
       "</html>\n"
      ],
      "text/plain": [
       "<IPython.core.display.HTML object>"
      ]
     },
     "metadata": {},
     "output_type": "display_data"
    }
   ],
   "source": [
    "# SHOWTIME\n",
    "from IPython.core.display import display, HTML\n",
    "\n",
    "display(HTML(compiled_website))"
   ]
  },
  {
   "cell_type": "markdown",
   "metadata": {},
   "source": [
    "##### That's all folks - don't forget to shutdown your workspace once you're done 🙂"
   ]
  }
 ],
 "metadata": {
  "kernelspec": {
   "display_name": "Python 2",
   "language": "python",
   "name": "python2"
  },
  "language_info": {
   "codemirror_mode": {
    "name": "ipython",
    "version": 2
   },
   "file_extension": ".py",
   "mimetype": "text/x-python",
   "name": "python",
   "nbconvert_exporter": "python",
   "pygments_lexer": "ipython2",
   "version": "2.7.10"
  }
 },
 "nbformat": 4,
 "nbformat_minor": 2
}
