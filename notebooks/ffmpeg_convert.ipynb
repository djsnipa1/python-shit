{
  "cells": [
    {
      "cell_type": "code",
      "source": [
        "from ffmpy import FFmpeg\n",
        "import os"
      ],
      "outputs": [],
      "execution_count": null,
      "metadata": {
        "collapsed": false,
        "jupyter": {
          "source_hidden": false,
          "outputs_hidden": false
        },
        "nteract": {
          "transient": {
            "deleting": false
          }
        }
      }
    },
    {
      "cell_type": "markdown",
      "source": [
        "nice got autohtkey to work\n"
      ],
      "metadata": {
        "nteract": {
          "transient": {
            "deleting": false
          }
        }
      }
    },
    {
      "cell_type": "code",
      "source": [
        "# import os\n",
        "# for file in os.listdir(\"/mydir\"):\n",
        "#     if file.endswith(\".txt\"):\n",
        "#         print(os.path.join(\"/mydir\", file))\n"
      ],
      "outputs": [],
      "execution_count": null,
      "metadata": {
        "collapsed": false,
        "jupyter": {
          "source_hidden": false,
          "outputs_hidden": false
        },
        "nteract": {
          "transient": {
            "deleting": false
          }
        }
      }
    },
    {
      "cell_type": "markdown",
      "source": [
        "**variables**"
      ],
      "metadata": {
        "nteract": {
          "transient": {
            "deleting": false
          }
        }
      }
    },
    {
      "cell_type": "code",
      "source": [
        "path = \"~\\\\PycharmProjects\\\\python-shit\"\n",
        "vid_path = \"~\\\\Vid\"\n",
        "# Expand an intial ~ component \n",
        "# in the given path \n",
        "# using os.path.expanduser() method \n",
        "full_path = os.path.expanduser(path) \n",
        "vid_path = os.path.expanduser(vid_path)\n",
        "\n",
        "os.chdir(full_path)\n",
        "os.getcwd()\n",
        "dirlist = os.listdir(vid_path)\n",
        "dirlist"
      ],
      "outputs": [],
      "execution_count": null,
      "metadata": {
        "collapsed": false,
        "jupyter": {
          "source_hidden": false,
          "outputs_hidden": false
        },
        "nteract": {
          "transient": {
            "deleting": false
          }
        }
      }
    },
    {
      "cell_type": "markdown",
      "source": [
        "`ffmpeg -i IMG_1530.mov -vcodec h264 -acodec mp2 my-video.mp4`\n"
      ],
      "metadata": {
        "nteract": {
          "transient": {
            "deleting": false
          }
        }
      }
    },
    {
      "cell_type": "code",
      "source": [
        "\n",
        "ff_from_mp4 = FFmpeg(\n",
        "     inputs={'input.ts': None},\n",
        "     # inputs={'test.mkv': None},\n",
        "     outputs={ : '-vcodec h264 -acodec mp2'}\n",
        "     # outputs=('output.mp4' : '-c:a mp2 -c:v mpeg2video output.mp4'}\n",
        ")\n"
      ],
      "outputs": [],
      "execution_count": null,
      "metadata": {
        "collapsed": false,
        "jupyter": {
          "source_hidden": false,
          "outputs_hidden": false
        },
        "nteract": {
          "transient": {
            "deleting": false
          }
        }
      }
    },
    {
      "cell_type": "code",
      "source": [
        "for file in os.listdir(vid_path):\n",
        "    if file.endswith(\".mp4\"):\n",
        "        print(file)\n",
        "        ff_from_mp4.run(file)\n",
        "\n",
        "print(os.path.join(file))\n"
      ],
      "outputs": [],
      "execution_count": null,
      "metadata": {
        "collapsed": false,
        "jupyter": {
          "source_hidden": false,
          "outputs_hidden": false
        },
        "nteract": {
          "transient": {
            "deleting": false
          }
        }
      }
    },
    {
      "cell_type": "code",
      "source": [
        "\n",
        "for item in dirlist:\n",
        "    filename = item\n",
        "    ff_from_mp4(item)\n",
        "    output = filename\n"
      ],
      "outputs": [],
      "execution_count": null,
      "metadata": {
        "collapsed": false,
        "jupyter": {
          "source_hidden": false,
          "outputs_hidden": false
        },
        "nteract": {
          "transient": {
            "deleting": false
          }
        }
      }
    },
    {
      "cell_type": "markdown",
      "source": [
        "use this for ffmpeg\n",
        "`ffmpeg -i try.mkv -c:a copy -h265-params crf-25 try.mp4`\n",
        "\n",
        "```python\n",
        "ff = FFmpeg(\n",
        "    inputs={'input.ts': None},\n",
        "    outputs={'output.mp4': '-c:a mp2 -c:v mpeg2video'}\n",
        ")\n",
        "ff.cmd\n",
        "'ffmpeg -i input.ts -c:a mp2 -c:v mpeg2video output.mp4'\n",
        "ff.run()\n",
        "```\n"
      ],
      "metadata": {
        "nteract": {
          "transient": {
            "deleting": false
          }
        }
      }
    },
    {
      "cell_type": "code",
      "source": [
        "ff = FFmpeg( \n",
        "     # inputs={'input.ts': None},\n",
        "     inputs={'test.mkv': None},\n",
        "     outputs={'output.mp4': '-c:a copy -h265-params crf-25'}\n",
        "     # outputs=('output.mp4' : '-c:a mp2 -c:v mpeg2video output.mp4'}\n",
        ")\n",
        "print(input)\n",
        "# print(input.ts)\n",
        "\n",
        "# ff.run()\n",
        "ff.cmd"
      ],
      "outputs": [],
      "execution_count": null,
      "metadata": {
        "collapsed": false,
        "jupyter": {
          "source_hidden": false,
          "outputs_hidden": false
        },
        "nteract": {
          "transient": {
            "deleting": false
          }
        }
      }
    }
  ],
  "metadata": {
    "kernelspec": {
      "argv": [
        "C:\\Users\\Chad\\.virtualenvs\\python-shit-Hatrr_zd\\Scripts\\python.exe",
        "-m",
        "ipykernel_launcher",
        "-f",
        "{connection_file}"
      ],
      "display_name": "hydrogen-python-shit",
      "language": "python",
      "name": "hydrogen-python-shit"
    }
  },
  "nbformat": 4,
  "nbformat_minor": 0
}