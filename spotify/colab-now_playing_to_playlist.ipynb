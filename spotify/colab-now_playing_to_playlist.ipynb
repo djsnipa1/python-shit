{
  "nbformat": 4,
  "nbformat_minor": 0,
  "metadata": {
    "kernelspec": {
      "display_name": "Python 3",
      "language": "python",
      "name": "python3"
    },
    "language_info": {
      "codemirror_mode": {
        "name": "ipython",
        "version": 3
      },
      "file_extension": ".py",
      "mimetype": "text/x-python",
      "name": "python",
      "nbconvert_exporter": "python",
      "pygments_lexer": "ipython3",
      "version": "3.6.4"
    },
    "colab": {
      "name": "Copy of now_playing_to_playlist.ipynb",
      "provenance": [],
      "collapsed_sections": [],
      "toc_visible": true,
      "include_colab_link": true
    }
  },
  "cells": [
    {
      "cell_type": "markdown",
      "metadata": {
        "id": "view-in-github",
        "colab_type": "text"
      },
      "source": [
        "<a href=\"https://colab.research.google.com/github/djsnipa1/python-shit/blob/master/colab-now_playing_to_playlist.ipynb\" target=\"_parent\"><img src=\"https://colab.research.google.com/assets/colab-badge.svg\" alt=\"Open In Colab\"/></a>"
      ]
    },
    {
      "cell_type": "markdown",
      "metadata": {
        "id": "mazLlj1mcbnY",
        "colab_type": "text"
      },
      "source": [
        "# 🛠 setup and `import` 📦"
      ]
    },
    {
      "cell_type": "markdown",
      "metadata": {
        "id": "4snf9imr4VHC",
        "colab_type": "text"
      },
      "source": [
        "## `pip install` "
      ]
    },
    {
      "cell_type": "code",
      "metadata": {
        "id": "vwIApxH2zE-i",
        "colab_type": "code",
        "outputId": "bde8c4f1-c6dd-4ff7-c479-84db28e11abe",
        "colab": {
          "base_uri": "https://localhost:8080/",
          "height": 204
        }
      },
      "source": [
        "!pip install spotipy\n",
        "!pip install colab-env -qU"
      ],
      "execution_count": 0,
      "outputs": [
        {
          "output_type": "stream",
          "text": [
            "Collecting spotipy\n",
            "  Downloading https://files.pythonhosted.org/packages/ea/39/8efecac5a29cb7092788c11e6dff46087bfe716663ce7b85fd7d34e85c6e/spotipy-2.10.0-py3-none-any.whl\n",
            "Requirement already satisfied: requests>=2.20.0 in /usr/local/lib/python3.6/dist-packages (from spotipy) (2.21.0)\n",
            "Requirement already satisfied: six>=1.10.0 in /usr/local/lib/python3.6/dist-packages (from spotipy) (1.12.0)\n",
            "Requirement already satisfied: certifi>=2017.4.17 in /usr/local/lib/python3.6/dist-packages (from requests>=2.20.0->spotipy) (2019.11.28)\n",
            "Requirement already satisfied: chardet<3.1.0,>=3.0.2 in /usr/local/lib/python3.6/dist-packages (from requests>=2.20.0->spotipy) (3.0.4)\n",
            "Requirement already satisfied: urllib3<1.25,>=1.21.1 in /usr/local/lib/python3.6/dist-packages (from requests>=2.20.0->spotipy) (1.24.3)\n",
            "Requirement already satisfied: idna<2.9,>=2.5 in /usr/local/lib/python3.6/dist-packages (from requests>=2.20.0->spotipy) (2.8)\n",
            "Installing collected packages: spotipy\n",
            "Successfully installed spotipy-2.10.0\n",
            "  Building wheel for colab-env (setup.py) ... \u001b[?25l\u001b[?25hdone\n"
          ],
          "name": "stdout"
        }
      ]
    },
    {
      "cell_type": "markdown",
      "metadata": {
        "id": "DWQjSReuxuob",
        "colab_type": "text"
      },
      "source": [
        "## `import` modules"
      ]
    },
    {
      "cell_type": "code",
      "metadata": {
        "id": "MCIxV-8RRO8F",
        "colab_type": "code",
        "colab": {}
      },
      "source": [
        "import spotipy\n",
        "import spotipy.util as util\n",
        "from spotipy.oauth2 import SpotifyClientCredentials\n",
        "from pprint import pprint\n",
        "import os\n",
        "import colab_env\n",
        "# this line is commented out im colab. \n",
        "# uncomment it when this js converted to a py script\n",
        "# from dotenv import load_dotenv"
      ],
      "execution_count": 0,
      "outputs": []
    },
    {
      "cell_type": "markdown",
      "metadata": {
        "id": "5VhH3_sdzN5x",
        "colab_type": "text"
      },
      "source": [
        "### `import google.colab` and mount google drive"
      ]
    },
    {
      "cell_type": "code",
      "metadata": {
        "id": "I3ACy2KQo73x",
        "colab_type": "code",
        "colab": {
          "base_uri": "https://localhost:8080/",
          "height": 54
        },
        "outputId": "cf296989-4f0b-4d91-f1dd-4f8664673d93"
      },
      "source": [
        "from google.colab import drive\n",
        "drive.mount('/content/drive')"
      ],
      "execution_count": 20,
      "outputs": [
        {
          "output_type": "stream",
          "text": [
            "Drive already mounted at /content/drive; to attempt to forcibly remount, call drive.mount(\"/content/drive\", force_remount=True).\n"
          ],
          "name": "stdout"
        }
      ]
    },
    {
      "cell_type": "markdown",
      "metadata": {
        "id": "IF4XyKVFoNXB",
        "colab_type": "text"
      },
      "source": [
        "only needed if envs didn't load properly"
      ]
    },
    {
      "cell_type": "code",
      "metadata": {
        "id": "r4nXHu3jnwzh",
        "colab_type": "code",
        "colab": {}
      },
      "source": [
        "# reload colab_env\n",
        "# colab_env.RELOAD()\n",
        "\n",
        "# this will display contents of colab_env\n",
        "# !more gdrive/My\\ Drive/vars.env"
      ],
      "execution_count": 0,
      "outputs": []
    },
    {
      "cell_type": "markdown",
      "metadata": {
        "id": "tZQXeKggRO9L",
        "colab_type": "text"
      },
      "source": [
        "**load environment variables**"
      ]
    },
    {
      "cell_type": "code",
      "metadata": {
        "id": "qdSuJ-Zqpskr",
        "colab_type": "code",
        "colab": {}
      },
      "source": [
        "SPOTIPY_CLIENT_ID = os.getenv(\"SPOTIPY_CLIENT_ID\")\n",
        "SPOTIPY_CLIENT_SECRET = os.getenv(\"SPOTIPY_CLIENT_SECRET\")\n",
        "SPOTIPY_REDIRECT_URI = os.getenv(\"SPOTIPY_REDIRECT_URI\")\n",
        "username = os.getenv(\"SPOTIFY_USERNAME\")"
      ],
      "execution_count": 0,
      "outputs": []
    },
    {
      "cell_type": "markdown",
      "metadata": {
        "id": "OI175yq8qR3V",
        "colab_type": "text"
      },
      "source": [
        "**`print(username)` to see if it worked**"
      ]
    },
    {
      "cell_type": "code",
      "metadata": {
        "id": "KN3df1KSRO9j",
        "colab_type": "code",
        "colab": {
          "base_uri": "https://localhost:8080/",
          "height": 51
        },
        "outputId": "889b5486-7b3e-4d81-b9a7-00143698ede7"
      },
      "source": [
        "print(username)\n",
        "if username == \"225rpxn4vfmxoqug5o3s57qia\":\n",
        "  print(\"Yep...it worked!\")\n",
        "else:\n",
        "  print(\"check your setup...it didn't work :(\")"
      ],
      "execution_count": 22,
      "outputs": [
        {
          "output_type": "stream",
          "text": [
            "225rpxn4vfmxoqug5o3s57qia\n",
            "Yep...it worked!\n"
          ],
          "name": "stdout"
        }
      ]
    },
    {
      "cell_type": "markdown",
      "metadata": {
        "id": "DazOzs_lrhDn",
        "colab_type": "text"
      },
      "source": [
        "## spotipy auth section"
      ]
    },
    {
      "cell_type": "code",
      "metadata": {
        "id": "zJU21hxhRO-Q",
        "colab_type": "code",
        "colab": {}
      },
      "source": [
        "client_credentials_manager = SpotifyClientCredentials(\n",
        "    client_id=SPOTIPY_CLIENT_ID, client_secret=SPOTIPY_CLIENT_SECRET)\n",
        "sp = spotipy.Spotify(client_credentials_manager=client_credentials_manager)\n",
        "\n",
        "scope = \"playlist-modify-private user-library-read \" \\\n",
        "        \"user-read-currently-playing user-read-playback-state \" \\\n",
        "        \"user-read-recently-played\"\n",
        "token = util.prompt_for_user_token(username, scope, SPOTIPY_CLIENT_ID,\n",
        "                                   SPOTIPY_CLIENT_SECRET, SPOTIPY_REDIRECT_URI)\n",
        "                                   \n",
        "if token:\n",
        "    sp = spotipy.Spotify(auth=token)\n",
        "else:\n",
        "    print(\"Can't get token for\", username)"
      ],
      "execution_count": 0,
      "outputs": []
    },
    {
      "cell_type": "markdown",
      "metadata": {
        "id": "4IzOofVfRPAN",
        "colab_type": "text"
      },
      "source": [
        "*I'm not quite sure what this is...*\n",
        "\n",
        "\n",
        "\n",
        "```python\n",
        "playlists = sp.user_playlists(username)\n",
        "for playlist in playlists['items']:\n",
        "    print(playlist['name'])\n",
        "```"
      ]
    },
    {
      "cell_type": "markdown",
      "metadata": {
        "id": "CS2Gjk-7szub",
        "colab_type": "text"
      },
      "source": [
        "## Add current track to playlist ✅"
      ]
    },
    {
      "cell_type": "code",
      "metadata": {
        "id": "sDYRmm3zgsxS",
        "colab_type": "code",
        "cellView": "form",
        "colab": {}
      },
      "source": [
        "# ============================= FORM ============================= #\n",
        "#@markdown ## **Sample Form**  ⬅️ ❌ ✅   \n",
        "#@markdown ## ⬅️ ❌ ✅   \n",
        "Version = \"Newest\" #@param [\"Newest\", \"4.1.6\", \"4.0.3\"]\n",
        "# ================================================================ #\n"
      ],
      "execution_count": 0,
      "outputs": []
    },
    {
      "cell_type": "markdown",
      "metadata": {
        "id": "LMxxEE3NXJdh",
        "colab_type": "text"
      },
      "source": [
        "## 💿 get currently playing track"
      ]
    },
    {
      "cell_type": "code",
      "metadata": {
        "id": "_njKFNgORPAP",
        "colab_type": "code",
        "colab": {}
      },
      "source": [
        "current_track = sp.current_user_playing_track()\n",
        "\n",
        "def current_user_playlists():\n",
        "    \"\"\" get's current_user playlists \"\"\"\n",
        "    current_user_playlists = sp.current_user_playlists()\n",
        "    while current_user_playlists:\n",
        "        for i, playlist in enumerate(current_user_playlists['items']):\n",
        "            print(\n",
        "                \"%4d %s %s\" %\n",
        "                (i +\n",
        "                 1 +\n",
        "                 current_user_playlists['offset'],\n",
        "                 playlist['uri'],\n",
        "                 playlist['name']))\n",
        "        if current_user_playlists['next']:\n",
        "            current_user_playlists = sp.next(current_user_playlists)\n",
        "        else:\n",
        "            current_user_playlists = None"
      ],
      "execution_count": 0,
      "outputs": []
    },
    {
      "cell_type": "markdown",
      "metadata": {
        "id": "qKLgacBuW9Qi",
        "colab_type": "text"
      },
      "source": [
        "### `current_user` json"
      ]
    },
    {
      "cell_type": "code",
      "metadata": {
        "id": "bb1wimXVRPAb",
        "colab_type": "code",
        "outputId": "cd2e4cc7-9fb6-4e97-dc86-6a596df151cd",
        "colab": {
          "base_uri": "https://localhost:8080/",
          "height": 217
        }
      },
      "source": [
        "current_user = sp.current_user()\n",
        "current_user"
      ],
      "execution_count": 0,
      "outputs": [
        {
          "output_type": "execute_result",
          "data": {
            "text/plain": [
              "{'display_name': 'Chad Boyce',\n",
              " 'external_urls': {'spotify': 'https://open.spotify.com/user/225rpxn4vfmxoqug5o3s57qia'},\n",
              " 'followers': {'href': None, 'total': 6},\n",
              " 'href': 'https://api.spotify.com/v1/users/225rpxn4vfmxoqug5o3s57qia',\n",
              " 'id': '225rpxn4vfmxoqug5o3s57qia',\n",
              " 'images': [{'height': None,\n",
              "   'url': 'https://scontent-ort2-1.xx.fbcdn.net/v/t1.0-1/p320x320/28378853_10160026531135414_7729077437422836681_n.jpg?_nc_cat=106&_nc_sid=0c64ff&_nc_ohc=v2S33o7LH2IAX929AhY&_nc_ht=scontent-ort2-1.xx&_nc_tp=6&oh=4d659047d6b8f6f2af4ad3d009105204&oe=5EB3516D',\n",
              "   'width': None}],\n",
              " 'type': 'user',\n",
              " 'uri': 'spotify:user:225rpxn4vfmxoqug5o3s57qia'}"
            ]
          },
          "metadata": {
            "tags": []
          },
          "execution_count": 52
        }
      ]
    },
    {
      "cell_type": "markdown",
      "metadata": {
        "id": "f0O6axpTXTdj",
        "colab_type": "text"
      },
      "source": [
        ""
      ]
    },
    {
      "cell_type": "code",
      "metadata": {
        "id": "-gb7TOUNRPAg",
        "colab_type": "code",
        "colab": {}
      },
      "source": [
        "def user_playlists():\n",
        "    playlists = sp.user_playlists(username)\n",
        "    while playlists:\n",
        "        for i, playlist in enumerate(playlists['items']):\n",
        "            print(\n",
        "                \"%4d %s %s\" %\n",
        "                (i +\n",
        "                 1 +\n",
        "                 playlists['offset'],\n",
        "                 playlist['uri'],\n",
        "                 playlist['name']))\n",
        "        if playlists['next']:\n",
        "            playlists = sp.next(playlists)\n",
        "        else:\n",
        "            playlists = None"
      ],
      "execution_count": 0,
      "outputs": []
    },
    {
      "cell_type": "code",
      "metadata": {
        "id": "OZEAKQxSe2zi",
        "colab_type": "code",
        "colab": {}
      },
      "source": [
        "user_playlists()"
      ],
      "execution_count": 0,
      "outputs": []
    },
    {
      "cell_type": "markdown",
      "metadata": {
        "id": "GM6I7gghRPAm",
        "colab_type": "text"
      },
      "source": [
        "user_playlists()"
      ]
    },
    {
      "cell_type": "markdown",
      "metadata": {
        "id": "26UhGQzduhHc",
        "colab_type": "text"
      },
      "source": [
        "## display users currently playing track"
      ]
    },
    {
      "cell_type": "code",
      "metadata": {
        "id": "H704Ck1dRPBD",
        "colab_type": "code",
        "outputId": "f724940d-3651-4404-90c9-5956598803d1",
        "colab": {
          "base_uri": "https://localhost:8080/",
          "height": 136
        }
      },
      "source": [
        "current_track_artist_name = current_track['item']['artists'][0]['name']\n",
        "current_track_name = current_track['item']['name']\n",
        "\n",
        "print(80 * \"-\")  # Displays -----\n",
        "print(current_user['display_name'])  # Displays user's real name\n",
        "print(40 * \"=-\")  # displays -=-=-=-=-\n",
        "\n",
        "try:\n",
        "    print(\"Currently Playing...\\n\")\n",
        "    print(\"Artist: \" + current_track_artist_name)\n",
        "    print(\"Track: \" + current_track_name)\n",
        "except TypeError:\n",
        "    print(\"Nothing is currently playing\")"
      ],
      "execution_count": 29,
      "outputs": [
        {
          "output_type": "stream",
          "text": [
            "--------------------------------------------------------------------------------\n",
            "Chad Boyce\n",
            "=-=-=-=-=-=-=-=-=-=-=-=-=-=-=-=-=-=-=-=-=-=-=-=-=-=-=-=-=-=-=-=-=-=-=-=-=-=-=-=-\n",
            "Currently Playing...\n",
            "\n",
            "Artist: Shogan\n",
            "Track: Breath of Being\n"
          ],
          "name": "stdout"
        }
      ]
    },
    {
      "cell_type": "markdown",
      "metadata": {
        "id": "GZGG_OGMjirX",
        "colab_type": "text"
      },
      "source": [
        "### `playlist_id`"
      ]
    },
    {
      "cell_type": "code",
      "metadata": {
        "id": "gjAtWPOGRPMA",
        "colab_type": "code",
        "colab": {}
      },
      "source": [
        "playlist_id = \"4LX0m5XMIUVpiktVfUu1qY\""
      ],
      "execution_count": 0,
      "outputs": []
    },
    {
      "cell_type": "markdown",
      "metadata": {
        "id": "3cRBxI1FjKYb",
        "colab_type": "text"
      },
      "source": [
        "## playlist()"
      ]
    },
    {
      "cell_type": "code",
      "metadata": {
        "id": "qrMUYZRxjt-e",
        "colab_type": "code",
        "outputId": "4f6dcf9a-6f83-4bc7-aabc-0bd129eed75d",
        "colab": {
          "base_uri": "https://localhost:8080/",
          "height": 246
        }
      },
      "source": [
        "playlist(playlist_id, fields=None)"
      ],
      "execution_count": 0,
      "outputs": [
        {
          "output_type": "error",
          "ename": "NameError",
          "evalue": "ignored",
          "traceback": [
            "\u001b[0;31m---------------------------------------------------------------------------\u001b[0m",
            "\u001b[0;31mNameError\u001b[0m                                 Traceback (most recent call last)",
            "\u001b[0;32m<ipython-input-59-018737980868>\u001b[0m in \u001b[0;36m<module>\u001b[0;34m()\u001b[0m\n\u001b[0;32m----> 1\u001b[0;31m \u001b[0mplaylist\u001b[0m\u001b[0;34m(\u001b[0m\u001b[0mplaylist_id\u001b[0m\u001b[0;34m,\u001b[0m \u001b[0mfields\u001b[0m\u001b[0;34m=\u001b[0m\u001b[0;32mNone\u001b[0m\u001b[0;34m)\u001b[0m\u001b[0;34m\u001b[0m\u001b[0;34m\u001b[0m\u001b[0m\n\u001b[0m",
            "\u001b[0;31mNameError\u001b[0m: name 'playlist' is not defined"
          ]
        }
      ]
    },
    {
      "cell_type": "code",
      "metadata": {
        "id": "hrb0JY38RPMG",
        "colab_type": "code",
        "colab": {}
      },
      "source": [
        "def current_track_to_playlist():\n",
        "    \"\"\"\n",
        "    Adds currently playing track to playlist\n",
        "    \"\"\"\n",
        "    # spotify:playlist:4LX0m5XMIUVpiktVfUu1qY\n",
        "    tracks = [current_track['item']['id']]\n",
        "    # pprint(current_track['item'])\n",
        "    added_to_playlist = sp.user_playlist_add_tracks(\n",
        "        username, playlist_id, tracks)\n",
        "    print(added_to_playlist)"
      ],
      "execution_count": 0,
      "outputs": []
    },
    {
      "cell_type": "code",
      "metadata": {
        "id": "FfdC6NdjRPMY",
        "colab_type": "code",
        "colab": {}
      },
      "source": [
        "def print_playlist_tracks():\n",
        "    \"\"\"\n",
        "    This prints a list of tracks in a playlist.\n",
        "    'track' , 'id' , 'name'\n",
        "    \"\"\"\n",
        "    offset = 0\n",
        "    while True:\n",
        "        response = sp.playlist_tracks(playlist_id,\n",
        "                                      offset=offset,\n",
        "                                      fields='items.track.name,'\n",
        "                                             'items.track.id,total')\n",
        "        pprint(response['items'])\n",
        "        offset = offset + len(response['items'])\n",
        "        print(offset, \"/\", response['total'])\n",
        "        if len(response['items']) == 0:\n",
        "            break"
      ],
      "execution_count": 0,
      "outputs": []
    },
    {
      "cell_type": "code",
      "metadata": {
        "id": "RcJjUVzMRPMd",
        "colab_type": "code",
        "colab": {
          "base_uri": "https://localhost:8080/",
          "height": 232
        },
        "outputId": "f9978fa4-1c67-4dbc-93a4-31c00dc0e16d"
      },
      "source": [
        "print(\"Do you want to add '\" + current_track_artist_name +\n",
        "      \" = \" + current_track_name + \"' to a playlist?\")\n",
        "playlist_choice = str.lower(input(\"[Y]es or [N]o ? \"))\n",
        "# number2 = float(input(\"Enter the second number: \"))\n",
        "# solution = number1 + number2\n",
        "# print(\"The sum of your numbers is {}\".format(solution))\n",
        "if playlist_choice == \"y\":\n",
        "    current_track_to_playlist()\n",
        "    print_playlist_tracks()\n",
        "else:\n",
        "    print_playlist_tracks()"
      ],
      "execution_count": 18,
      "outputs": [
        {
          "output_type": "error",
          "ename": "NameError",
          "evalue": "ignored",
          "traceback": [
            "\u001b[0;31m---------------------------------------------------------------------------\u001b[0m",
            "\u001b[0;31mNameError\u001b[0m                                 Traceback (most recent call last)",
            "\u001b[0;32m<ipython-input-18-f6991b41f3c1>\u001b[0m in \u001b[0;36m<module>\u001b[0;34m()\u001b[0m\n\u001b[1;32m      1\u001b[0m print(\"Do you want to add '\" + current_track_artist_name +\n\u001b[0;32m----> 2\u001b[0;31m       \" = \" + current_track_name + \"' to a playlist?\")\n\u001b[0m\u001b[1;32m      3\u001b[0m \u001b[0mplaylist_choice\u001b[0m \u001b[0;34m=\u001b[0m \u001b[0mstr\u001b[0m\u001b[0;34m.\u001b[0m\u001b[0mlower\u001b[0m\u001b[0;34m(\u001b[0m\u001b[0minput\u001b[0m\u001b[0;34m(\u001b[0m\u001b[0;34m\"[Y]es or [N]o ? \"\u001b[0m\u001b[0;34m)\u001b[0m\u001b[0;34m)\u001b[0m\u001b[0;34m\u001b[0m\u001b[0;34m\u001b[0m\u001b[0m\n\u001b[1;32m      4\u001b[0m \u001b[0;31m# number2 = float(input(\"Enter the second number: \"))\u001b[0m\u001b[0;34m\u001b[0m\u001b[0;34m\u001b[0m\u001b[0;34m\u001b[0m\u001b[0m\n\u001b[1;32m      5\u001b[0m \u001b[0;31m# solution = number1 + number2\u001b[0m\u001b[0;34m\u001b[0m\u001b[0;34m\u001b[0m\u001b[0;34m\u001b[0m\u001b[0m\n",
            "\u001b[0;31mNameError\u001b[0m: name 'current_track_artist_name' is not defined"
          ]
        }
      ]
    }
  ]
}